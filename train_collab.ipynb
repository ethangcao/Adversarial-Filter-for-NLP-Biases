{
  "nbformat": 4,
  "nbformat_minor": 0,
  "metadata": {
    "colab": {
      "name": "train.ipynb",
      "provenance": [],
      "collapsed_sections": []
    },
    "kernelspec": {
      "name": "python3",
      "display_name": "Python 3"
    },
    "language_info": {
      "name": "python"
    },
    "accelerator": "GPU"
  },
  "cells": [
    {
      "cell_type": "markdown",
      "metadata": {
        "id": "8WQbQukSjSry"
      },
      "source": [
        ""
      ]
    },
    {
      "cell_type": "code",
      "metadata": {
        "id": "sMy2J5F4jSGF"
      },
      "source": [
        "prereqs:\n",
        "- download https://github.com/matt-raporte/anli and save it to your drive under ColabNotebooks/anli\n",
        "- supress disconects step #7 https://towardsdatascience.com/10-tips-for-a-better-google-colab-experience-33f8fe721b82"
      ],
      "execution_count": null,
      "outputs": []
    },
    {
      "cell_type": "code",
      "metadata": {
        "colab": {
          "base_uri": "https://localhost:8080/"
        },
        "id": "LI5oTfkwW0bQ",
        "outputId": "ef3ea017-e1c8-432c-c117-eda6f4164076"
      },
      "source": [
        "%%bash\n",
        "ls -l "
      ],
      "execution_count": 37,
      "outputs": [
        {
          "output_type": "stream",
          "text": [
            "total 114208\n",
            "drwx------ 5 root root     4096 Jul 17 17:31 drive\n",
            "-rwxr-xr-x 1 root root 58468498 Jun  7  2018 Miniconda3-4.5.4-Linux-x86_64.sh\n",
            "-rw-r--r-- 1 root root 58468498 Jun  7  2018 Miniconda3-4.5.4-Linux-x86_64.sh.1\n",
            "drwxr-xr-x 1 root root     4096 Jul 15 13:38 sample_data\n"
          ],
          "name": "stdout"
        }
      ]
    },
    {
      "cell_type": "code",
      "metadata": {
        "colab": {
          "base_uri": "https://localhost:8080/"
        },
        "id": "tBo50yaVW7Ww",
        "outputId": "9ea5a27f-4cee-4fe8-d03a-ab3cfc90630b"
      },
      "source": [
        "# Mount into drive\n",
        "from google.colab import drive\n",
        "drive.mount(\"/content/drive\", force_remount=True)"
      ],
      "execution_count": 38,
      "outputs": [
        {
          "output_type": "stream",
          "text": [
            "Mounted at /content/drive\n"
          ],
          "name": "stdout"
        }
      ]
    },
    {
      "cell_type": "code",
      "metadata": {
        "colab": {
          "base_uri": "https://localhost:8080/"
        },
        "id": "F1YXumGLaY2F",
        "outputId": "3d4bee22-338b-4f1a-9305-2c4512d22c40"
      },
      "source": [
        "%%bash\n",
        "pip install torch==1.7\n",
        "pip install transformers==3.0.2\n",
        "pip install flint\n",
        "pip install tqdm"
      ],
      "execution_count": null,
      "outputs": [
        {
          "output_type": "stream",
          "text": [
            "Collecting torch==1.7\n",
            "  Downloading torch-1.7.0-cp36-cp36m-manylinux1_x86_64.whl (776.7 MB)\n",
            "Collecting dataclasses\n",
            "  Downloading dataclasses-0.8-py3-none-any.whl (19 kB)\n",
            "Collecting typing-extensions\n",
            "  Downloading typing_extensions-3.10.0.0-py3-none-any.whl (26 kB)\n",
            "Collecting future\n",
            "  Downloading future-0.18.2.tar.gz (829 kB)\n",
            "Collecting numpy\n",
            "  Downloading numpy-1.19.5-cp36-cp36m-manylinux2010_x86_64.whl (14.8 MB)\n",
            "Building wheels for collected packages: future\n",
            "  Building wheel for future (setup.py): started\n",
            "  Building wheel for future (setup.py): finished with status 'done'\n",
            "  Created wheel for future: filename=future-0.18.2-py3-none-any.whl size=491059 sha256=52090e0113bc4b839068b24906535a7bea7214e1bc0567353ae716f421bd45a8\n",
            "  Stored in directory: /root/.cache/pip/wheels/6e/9c/ed/4499c9865ac1002697793e0ae05ba6be33553d098f3347fb94\n",
            "Successfully built future\n",
            "Installing collected packages: typing-extensions, numpy, future, dataclasses, torch\n",
            "Successfully installed dataclasses-0.8 future-0.18.2 numpy-1.19.5 torch-1.7.0 typing-extensions-3.10.0.0\n",
            "Collecting transformers==3.0.2\n",
            "  Downloading transformers-3.0.2-py3-none-any.whl (769 kB)\n",
            "Requirement already satisfied: requests in /usr/local/lib/python3.6/site-packages (from transformers==3.0.2) (2.25.1)\n",
            "Requirement already satisfied: numpy in /usr/local/lib/python3.6/site-packages (from transformers==3.0.2) (1.19.5)\n",
            "Collecting regex!=2019.12.17\n",
            "  Downloading regex-2021.7.6-cp36-cp36m-manylinux2014_x86_64.whl (722 kB)\n",
            "Collecting sacremoses\n",
            "  Downloading sacremoses-0.0.45-py3-none-any.whl (895 kB)\n",
            "Collecting packaging\n",
            "  Downloading packaging-21.0-py3-none-any.whl (40 kB)\n",
            "Requirement already satisfied: dataclasses in /usr/local/lib/python3.6/site-packages (from transformers==3.0.2) (0.8)\n",
            "Requirement already satisfied: tqdm>=4.27 in /usr/local/lib/python3.6/site-packages (from transformers==3.0.2) (4.61.2)\n",
            "Collecting tokenizers==0.8.1.rc1\n",
            "  Downloading tokenizers-0.8.1rc1-cp36-cp36m-manylinux1_x86_64.whl (3.0 MB)\n",
            "Collecting sentencepiece!=0.1.92\n",
            "  Downloading sentencepiece-0.1.96-cp36-cp36m-manylinux_2_17_x86_64.manylinux2014_x86_64.whl (1.2 MB)\n",
            "Collecting filelock\n",
            "  Downloading filelock-3.0.12-py3-none-any.whl (7.6 kB)\n",
            "Collecting pyparsing>=2.0.2\n",
            "  Downloading pyparsing-2.4.7-py2.py3-none-any.whl (67 kB)\n",
            "Requirement already satisfied: urllib3<1.27,>=1.21.1 in /usr/local/lib/python3.6/site-packages (from requests->transformers==3.0.2) (1.26.6)\n",
            "Requirement already satisfied: certifi>=2017.4.17 in /usr/local/lib/python3.6/site-packages (from requests->transformers==3.0.2) (2021.5.30)\n",
            "Requirement already satisfied: idna<3,>=2.5 in /usr/local/lib/python3.6/site-packages (from requests->transformers==3.0.2) (2.10)\n",
            "Requirement already satisfied: chardet<5,>=3.0.2 in /usr/local/lib/python3.6/site-packages (from requests->transformers==3.0.2) (4.0.0)\n",
            "Collecting joblib\n",
            "  Downloading joblib-1.0.1-py3-none-any.whl (303 kB)\n",
            "Collecting click\n",
            "  Downloading click-8.0.1-py3-none-any.whl (97 kB)\n",
            "Requirement already satisfied: six in /usr/local/lib/python3.6/site-packages (from sacremoses->transformers==3.0.2) (1.16.0)\n",
            "Collecting importlib-metadata\n",
            "  Downloading importlib_metadata-4.6.1-py3-none-any.whl (17 kB)\n",
            "Requirement already satisfied: typing-extensions>=3.6.4 in /usr/local/lib/python3.6/site-packages (from importlib-metadata->click->sacremoses->transformers==3.0.2) (3.10.0.0)\n",
            "Collecting zipp>=0.5\n",
            "  Downloading zipp-3.5.0-py3-none-any.whl (5.7 kB)\n",
            "Installing collected packages: zipp, importlib-metadata, regex, pyparsing, joblib, click, tokenizers, sentencepiece, sacremoses, packaging, filelock, transformers\n",
            "Successfully installed click-8.0.1 filelock-3.0.12 importlib-metadata-4.6.1 joblib-1.0.1 packaging-21.0 pyparsing-2.4.7 regex-2021.7.6 sacremoses-0.0.45 sentencepiece-0.1.96 tokenizers-0.8.1rc1 transformers-3.0.2 zipp-3.5.0\n",
            "Collecting flint\n",
            "  Downloading flint-0.2.tar.gz (6.4 kB)\n",
            "Requirement already satisfied: setuptools in /usr/local/lib/python3.6/site-packages (from flint) (52.0.0.post20210125)\n",
            "Collecting pep8>=1.4.3\n",
            "  Downloading pep8-1.7.1-py2.py3-none-any.whl (41 kB)\n",
            "Collecting pyflakes>=0.6.1\n",
            "  Downloading pyflakes-2.3.1-py2.py3-none-any.whl (68 kB)\n",
            "Building wheels for collected packages: flint\n",
            "  Building wheel for flint (setup.py): started\n",
            "  Building wheel for flint (setup.py): finished with status 'done'\n",
            "  Created wheel for flint: filename=flint-0.2-py3-none-any.whl size=6466 sha256=d592cb531719c94dfdb73f320fb8f67b551053d971ccd3f8923ae5e1eb928830\n",
            "  Stored in directory: /root/.cache/pip/wheels/05/3a/73/e82ff227252852a3668743f7b072abcae443df3002c45c6786\n",
            "Successfully built flint\n",
            "Installing collected packages: pyflakes, pep8, flint\n",
            "Successfully installed flint-0.2 pep8-1.7.1 pyflakes-2.3.1\n",
            "Requirement already satisfied: tqdm in /usr/local/lib/python3.6/site-packages (4.61.2)\n"
          ],
          "name": "stdout"
        },
        {
          "output_type": "stream",
          "text": [
            "WARNING: Running pip as the 'root' user can result in broken permissions and conflicting behaviour with the system package manager. It is recommended to use a virtual environment instead: https://pip.pypa.io/warnings/venv\n",
            "WARNING: Running pip as the 'root' user can result in broken permissions and conflicting behaviour with the system package manager. It is recommended to use a virtual environment instead: https://pip.pypa.io/warnings/venv\n",
            "WARNING: Running pip as the 'root' user can result in broken permissions and conflicting behaviour with the system package manager. It is recommended to use a virtual environment instead: https://pip.pypa.io/warnings/venv\n",
            "WARNING: Running pip as the 'root' user can result in broken permissions and conflicting behaviour with the system package manager. It is recommended to use a virtual environment instead: https://pip.pypa.io/warnings/venv\n"
          ],
          "name": "stderr"
        }
      ]
    },
    {
      "cell_type": "code",
      "metadata": {
        "colab": {
          "base_uri": "https://localhost:8080/"
        },
        "id": "qeWbTJwMfuPH",
        "outputId": "d96e1761-e3ef-4d08-9cdc-33e463e2f4ba"
      },
      "source": [
        "%%bash\n",
        "cd drive/MyDrive/ColabNotebooks/anli\n",
        "bash script/download_data.sh"
      ],
      "execution_count": 40,
      "outputs": [
        {
          "output_type": "stream",
          "text": [
            "PYTHONPATH=/env/python:/content/drive/MyDrive/ColabNotebooks/anli/src:/content/drive/MyDrive/ColabNotebooks/anli/utest\n",
            "The path of project root: /content/drive/MyDrive/ColabNotebooks/anli\n",
            "DEBUG:\n",
            "/content/drive/MyDrive/ColabNotebooks/anli/data\n",
            "SNLI checked.\n",
            "MNLI checked.\n",
            "FEVER NLI checked.\n",
            "ANLI checked.\n",
            "Data download completed and checked.\n"
          ],
          "name": "stdout"
        }
      ]
    },
    {
      "cell_type": "code",
      "metadata": {
        "colab": {
          "base_uri": "https://localhost:8080/"
        },
        "id": "0K0ec4T1iMso",
        "outputId": "736eeb0e-8076-404b-c9f3-41cd57a2e0e7"
      },
      "source": [
        "%%bash\n",
        "cd drive/MyDrive/ColabNotebooks/anli\n",
        "source setup.sh\n",
        "python src/dataset_tools/build_data.py"
      ],
      "execution_count": 44,
      "outputs": [
        {
          "output_type": "stream",
          "text": [
            "PYTHONPATH=/env/python:/content/drive/MyDrive/ColabNotebooks/anli/src:/content/drive/MyDrive/ColabNotebooks/anli/utest\n",
            "Load Jsonl: /content/drive/MyDrive/ColabNotebooks/anli/data/snli_1.0/snli_1.0_train.jsonl\n",
            "Load Jsonl: /content/drive/MyDrive/ColabNotebooks/anli/data/snli_1.0/snli_1.0_dev.jsonl\n",
            "Load Jsonl: /content/drive/MyDrive/ColabNotebooks/anli/data/snli_1.0/snli_1.0_test.jsonl\n",
            "SNLI examples without gold label have been filtered.\n",
            "SNLI Train size: 549367\n",
            "SNLI Dev size: 9842\n",
            "SNLI Test size: 9824\n",
            "Save to Jsonl: /content/drive/MyDrive/ColabNotebooks/anli/data/build/snli/train.jsonl\n",
            "Save to Jsonl: /content/drive/MyDrive/ColabNotebooks/anli/data/build/snli/dev.jsonl\n",
            "Save to Jsonl: /content/drive/MyDrive/ColabNotebooks/anli/data/build/snli/test.jsonl\n",
            "Load Jsonl: /content/drive/MyDrive/ColabNotebooks/anli/data/multinli_1.0/multinli_1.0_train.jsonl\n",
            "Load Jsonl: /content/drive/MyDrive/ColabNotebooks/anli/data/multinli_1.0/multinli_1.0_dev_mismatched.jsonl\n",
            "Load Jsonl: /content/drive/MyDrive/ColabNotebooks/anli/data/multinli_1.0/multinli_1.0_dev_matched.jsonl\n",
            "MNLI examples without gold label have been filtered.\n",
            "MNLI Train size: 392702\n",
            "MNLI MisMatched Dev size: 9832\n",
            "MNLI Matched dev size: 9815\n",
            "Save to Jsonl: /content/drive/MyDrive/ColabNotebooks/anli/data/build/mnli/train.jsonl\n",
            "Save to Jsonl: /content/drive/MyDrive/ColabNotebooks/anli/data/build/mnli/mm_dev.jsonl\n",
            "Save to Jsonl: /content/drive/MyDrive/ColabNotebooks/anli/data/build/mnli/m_dev.jsonl\n",
            "Load Jsonl: /content/drive/MyDrive/ColabNotebooks/anli/data/nli_fever/train_fitems.jsonl\n",
            "Load Jsonl: /content/drive/MyDrive/ColabNotebooks/anli/data/nli_fever/dev_fitems.jsonl\n",
            "Load Jsonl: /content/drive/MyDrive/ColabNotebooks/anli/data/nli_fever/test_fitems.jsonl\n",
            "FEVER-NLI Train size: 208346\n",
            "FEVER-NLI Dev size: 19998\n",
            "FEVER-NLI Test size: 19998\n",
            "Save to Jsonl: /content/drive/MyDrive/ColabNotebooks/anli/data/build/fever_nli/train.jsonl\n",
            "Save to Jsonl: /content/drive/MyDrive/ColabNotebooks/anli/data/build/fever_nli/dev.jsonl\n",
            "Save to Jsonl: /content/drive/MyDrive/ColabNotebooks/anli/data/build/fever_nli/test.jsonl\n",
            "Load Jsonl: /content/drive/MyDrive/ColabNotebooks/anli/data/anli_v1.0/R1/train.jsonl\n",
            "Load Jsonl: /content/drive/MyDrive/ColabNotebooks/anli/data/anli_v1.0/R1/dev.jsonl\n",
            "Load Jsonl: /content/drive/MyDrive/ColabNotebooks/anli/data/anli_v1.0/R1/test.jsonl\n",
            "ANLI (R1) Train size: 16946\n",
            "ANLI (R1) Dev size: 1000\n",
            "ANLI (R1) Test size: 1000\n",
            "Save to Jsonl: /content/drive/MyDrive/ColabNotebooks/anli/data/build/anli/r1/train.jsonl\n",
            "Save to Jsonl: /content/drive/MyDrive/ColabNotebooks/anli/data/build/anli/r1/dev.jsonl\n",
            "Save to Jsonl: /content/drive/MyDrive/ColabNotebooks/anli/data/build/anli/r1/test.jsonl\n",
            "Load Jsonl: /content/drive/MyDrive/ColabNotebooks/anli/data/anli_v1.0/R2/train.jsonl\n",
            "Load Jsonl: /content/drive/MyDrive/ColabNotebooks/anli/data/anli_v1.0/R2/dev.jsonl\n",
            "Load Jsonl: /content/drive/MyDrive/ColabNotebooks/anli/data/anli_v1.0/R2/test.jsonl\n",
            "ANLI (R2) Train size: 45460\n",
            "ANLI (R2) Dev size: 1000\n",
            "ANLI (R2) Test size: 1000\n",
            "Save to Jsonl: /content/drive/MyDrive/ColabNotebooks/anli/data/build/anli/r2/train.jsonl\n",
            "Save to Jsonl: /content/drive/MyDrive/ColabNotebooks/anli/data/build/anli/r2/dev.jsonl\n",
            "Save to Jsonl: /content/drive/MyDrive/ColabNotebooks/anli/data/build/anli/r2/test.jsonl\n",
            "Load Jsonl: /content/drive/MyDrive/ColabNotebooks/anli/data/anli_v1.0/R3/train.jsonl\n",
            "Load Jsonl: /content/drive/MyDrive/ColabNotebooks/anli/data/anli_v1.0/R3/dev.jsonl\n",
            "Load Jsonl: /content/drive/MyDrive/ColabNotebooks/anli/data/anli_v1.0/R3/test.jsonl\n",
            "ANLI (R3) Train size: 100459\n",
            "ANLI (R3) Dev size: 1200\n",
            "ANLI (R3) Test size: 1200\n",
            "Save to Jsonl: /content/drive/MyDrive/ColabNotebooks/anli/data/build/anli/r3/train.jsonl\n",
            "Save to Jsonl: /content/drive/MyDrive/ColabNotebooks/anli/data/build/anli/r3/dev.jsonl\n",
            "Save to Jsonl: /content/drive/MyDrive/ColabNotebooks/anli/data/build/anli/r3/test.jsonl\n",
            "NLI data built!\n"
          ],
          "name": "stdout"
        },
        {
          "output_type": "stream",
          "text": [
            "\r0it [00:00, ?it/s]\r1it [00:00,  4.12it/s]\r694it [00:00, 1788.10it/s]\r3689it [00:00, 9296.44it/s]\r7065it [00:00, 16052.47it/s]\r10241it [00:00, 20493.43it/s]\r13541it [00:00, 24091.75it/s]\r17522it [00:00, 28669.90it/s]\r22616it [00:01, 35213.31it/s]\r28196it [00:01, 41298.78it/s]\r33429it [00:01, 40246.14it/s]\r37625it [00:01, 30894.22it/s]\r41135it [00:01, 29648.00it/s]\r45206it [00:01, 32245.01it/s]\r49320it [00:01, 34478.86it/s]\r54014it [00:01, 37768.45it/s]\r59121it [00:02, 41410.92it/s]\r64618it [00:02, 45223.72it/s]\r70390it [00:02, 48804.39it/s]\r76591it [00:02, 52639.82it/s]\r81956it [00:02, 44855.29it/s]\r88829it [00:02, 51109.41it/s]\r97820it [00:02, 61675.80it/s]\r107007it [00:02, 70131.59it/s]\r116099it [00:02, 76070.88it/s]\r125118it [00:03, 80162.03it/s]\r133303it [00:03, 60722.33it/s]\r142315it [00:03, 67762.89it/s]\r150604it [00:03, 71617.89it/s]\r159235it [00:03, 75538.82it/s]\r167607it [00:03, 77794.49it/s]\r175730it [00:03, 54579.27it/s]\r184896it [00:03, 62688.62it/s]\r194023it [00:04, 69435.26it/s]\r203285it [00:04, 75314.89it/s]\r212609it [00:04, 80081.37it/s]\r221225it [00:04, 50768.74it/s]\r230576it [00:04, 59158.56it/s]\r239597it [00:04, 65958.67it/s]\r247616it [00:04, 68250.32it/s]\r256630it [00:05, 73742.22it/s]\r264841it [00:05, 43720.41it/s]\r271238it [00:05, 42629.04it/s]\r276902it [00:05, 41903.64it/s]\r282057it [00:06, 23412.85it/s]\r287287it [00:06, 27202.51it/s]\r291581it [00:06, 28331.76it/s]\r297281it [00:06, 33410.74it/s]\r305278it [00:06, 42810.91it/s]\r313210it [00:06, 50967.11it/s]\r321903it [00:06, 59678.27it/s]\r330807it [00:06, 67225.62it/s]\r339402it [00:07, 72254.09it/s]\r348623it [00:07, 77786.08it/s]\r356901it [00:07, 40390.28it/s]\r366141it [00:07, 49299.47it/s]\r374814it [00:07, 56657.20it/s]\r383996it [00:07, 64267.59it/s]\r393099it [00:08, 70642.34it/s]\r402362it [00:08, 76222.72it/s]\r411456it [00:08, 80138.65it/s]\r420244it [00:08, 82057.78it/s]\r429008it [00:08, 83071.56it/s]\r437711it [00:08, 83038.78it/s]\r446292it [00:08, 83452.24it/s]\r454833it [00:09, 36941.70it/s]\r463792it [00:09, 45049.96it/s]\r472557it [00:09, 52730.82it/s]\r481273it [00:09, 59782.37it/s]\r489516it [00:09, 64907.69it/s]\r498116it [00:09, 70060.73it/s]\r506601it [00:09, 73885.37it/s]\r514903it [00:09, 76060.22it/s]\r523170it [00:09, 77646.95it/s]\r531409it [00:10, 78234.32it/s]\r539567it [00:10, 78909.39it/s]\r547735it [00:10, 79707.65it/s]\r550152it [00:10, 53486.04it/s]\n",
            "\r0it [00:00, ?it/s]\r1it [00:00,  3.69it/s]\r4387it [00:00, 15150.53it/s]\r10000it [00:00, 22635.56it/s]\n",
            "\r0it [00:00, ?it/s]\r1it [00:00,  4.22it/s]\r4137it [00:00, 10004.58it/s]\r5120it [00:01, 4314.65it/s] \r10000it [00:01, 8643.27it/s]\n",
            "\r0it [00:00, ?it/s]\r1it [00:00,  3.56it/s]\r5128it [00:00, 17289.83it/s]\r8144it [00:00, 21072.45it/s]\r11084it [00:00, 21050.84it/s]\r15862it [00:00, 28629.30it/s]\r19248it [00:00, 26613.32it/s]\r22272it [00:01, 20269.33it/s]\r25987it [00:01, 23964.66it/s]\r32637it [00:01, 34098.28it/s]\r39401it [00:01, 42613.04it/s]\r44284it [00:01, 32242.38it/s]\r48295it [00:01, 33819.96it/s]\r52285it [00:01, 28776.39it/s]\r55685it [00:02, 24070.70it/s]\r58746it [00:02, 25370.01it/s]\r65434it [00:02, 34548.56it/s]\r72042it [00:02, 42117.02it/s]\r78926it [00:02, 48940.64it/s]\r86086it [00:02, 54996.51it/s]\r93262it [00:02, 59625.11it/s]\r100524it [00:02, 63299.86it/s]\r107393it [00:02, 64850.88it/s]\r114622it [00:03, 67012.15it/s]\r121469it [00:03, 66976.20it/s]\r128642it [00:03, 68373.45it/s]\r135802it [00:03, 69326.23it/s]\r142788it [00:03, 46256.69it/s]\r148458it [00:03, 40240.92it/s]\r153304it [00:04, 34044.69it/s]\r157382it [00:04, 33023.54it/s]\r161134it [00:04, 33383.71it/s]\r164801it [00:04, 25784.30it/s]\r168133it [00:04, 27247.32it/s]\r171444it [00:04, 28521.56it/s]\r174615it [00:04, 26041.85it/s]\r177459it [00:05, 23381.06it/s]\r183645it [00:05, 32042.16it/s]\r187268it [00:05, 23630.95it/s]\r193895it [00:05, 32118.05it/s]\r200600it [00:05, 39850.92it/s]\r207408it [00:05, 46632.65it/s]\r213715it [00:05, 50599.85it/s]\r219379it [00:05, 50576.50it/s]\r224859it [00:06, 49295.18it/s]\r230308it [00:06, 50682.20it/s]\r235601it [00:06, 48686.81it/s]\r240636it [00:06, 25845.15it/s]\r245671it [00:06, 30016.84it/s]\r250389it [00:06, 33374.26it/s]\r256613it [00:06, 39678.97it/s]\r263261it [00:07, 46052.17it/s]\r269185it [00:07, 49395.16it/s]\r275643it [00:07, 53431.71it/s]\r282471it [00:07, 57517.70it/s]\r289016it [00:07, 59687.22it/s]\r295865it [00:07, 62213.80it/s]\r302298it [00:08, 31849.39it/s]\r308900it [00:08, 37792.88it/s]\r314717it [00:08, 41848.54it/s]\r321402it [00:08, 47383.42it/s]\r328040it [00:08, 51946.76it/s]\r334662it [00:08, 55563.34it/s]\r340927it [00:08, 50887.19it/s]\r347062it [00:08, 53530.29it/s]\r353633it [00:08, 56760.45it/s]\r360184it [00:08, 59159.46it/s]\r366874it [00:09, 61339.56it/s]\r373488it [00:09, 62715.96it/s]\r379908it [00:09, 62548.07it/s]\r386267it [00:09, 27538.90it/s]\r392702it [00:09, 39652.38it/s]\n",
            "\r0it [00:00, ?it/s]\r1it [00:00,  2.27it/s]\r3012it [00:00, 4906.41it/s]\r3593it [00:01, 3855.68it/s]\r9543it [00:01, 13314.76it/s]\r10000it [00:01, 8915.79it/s]\n",
            "\r0it [00:00, ?it/s]\r1it [00:00,  3.11it/s]\r3137it [00:00, 5233.13it/s]\r9086it [00:00, 15675.36it/s]\r10000it [00:00, 12357.74it/s]\n",
            "\r0it [00:00, ?it/s]\r1it [00:00,  4.09it/s]\r6754it [00:00, 24885.26it/s]\r16053it [00:00, 24185.71it/s]\r19299it [00:02, 7682.71it/s] \r30823it [00:02, 16018.08it/s]\r42917it [00:02, 26476.08it/s]\r54777it [00:02, 37958.55it/s]\r66851it [00:02, 50470.43it/s]\r78631it [00:02, 62425.95it/s]\r90698it [00:02, 74210.01it/s]\r101735it [00:02, 81955.31it/s]\r113490it [00:02, 90560.63it/s]\r125580it [00:02, 98345.36it/s]\r137537it [00:03, 104039.58it/s]\r149237it [00:03, 107628.93it/s]\r161166it [00:03, 110934.18it/s]\r173063it [00:03, 113249.67it/s]\r184843it [00:03, 114156.42it/s]\r196579it [00:03, 111464.17it/s]\r208274it [00:03, 113043.32it/s]\r208346it [00:03, 57162.38it/s] \n",
            "\r0it [00:00, ?it/s]\r1it [00:00,  3.58it/s]\r3148it [00:00, 10647.25it/s]\r12421it [00:00, 37387.37it/s]\r17661it [00:00, 35784.62it/s]\r19998it [00:00, 30543.42it/s]\n",
            "\r0it [00:00, ?it/s]\r1it [00:00,  3.48it/s]\r7612it [00:00, 25296.81it/s]\r12090it [00:00, 21658.00it/s]\r16831it [00:00, 21757.76it/s]\r19998it [00:00, 22767.69it/s]\n",
            "\r0it [00:00, ?it/s]\r1it [00:00,  3.33it/s]\r6923it [00:00, 10130.98it/s]\r14627it [00:00, 21700.17it/s]\r16946it [00:00, 18884.57it/s]\n",
            "\r0it [00:00, ?it/s]\r1it [00:00,  3.33it/s]\r347it [00:00, 743.95it/s]\r1000it [00:00, 1773.28it/s]\n",
            "\r0it [00:00, ?it/s]\r1it [00:00,  3.69it/s]\r533it [00:00, 1317.11it/s]\r1000it [00:00, 2030.77it/s]\n",
            "\r0it [00:00, ?it/s]\r1it [00:00,  4.62it/s]\r7045it [00:00, 16021.37it/s]\r8483it [00:00, 11720.70it/s]\r9543it [00:01, 6594.06it/s] \r19921it [00:01, 20764.53it/s]\r29312it [00:01, 33373.34it/s]\r39540it [00:01, 46988.86it/s]\r45460it [00:01, 29030.33it/s]\n",
            "\r0it [00:00, ?it/s]\r1it [00:00,  4.02it/s]\r931it [00:00, 2384.51it/s]\r1000it [00:00, 2145.63it/s]\n",
            "\r0it [00:00, ?it/s]\r1it [00:00,  3.89it/s]\r349it [00:00, 884.92it/s]\r1000it [00:00, 2062.21it/s]\n",
            "\r0it [00:00, ?it/s]\r1it [00:00,  4.13it/s]\r5882it [00:00, 7591.23it/s]\r7510it [00:00, 8844.55it/s]\r8542it [00:01, 9005.08it/s]\r10685it [00:01, 11517.51it/s]\r17161it [00:01, 23475.00it/s]\r23554it [00:01, 33300.85it/s]\r33556it [00:01, 50487.20it/s]\r43849it [00:01, 64593.31it/s]\r54213it [00:01, 75430.30it/s]\r64269it [00:01, 82563.39it/s]\r74233it [00:01, 87488.34it/s]\r84585it [00:01, 92165.50it/s]\r94679it [00:02, 94745.52it/s]\r100459it [00:02, 47446.51it/s]\n",
            "\r0it [00:00, ?it/s]\r1it [00:00,  4.52it/s]\r1200it [00:00, 5101.43it/s]\n",
            "\r0it [00:00, ?it/s]\r1it [00:00,  4.55it/s]\r1200it [00:00, 5113.49it/s]\n"
          ],
          "name": "stderr"
        }
      ]
    },
    {
      "cell_type": "code",
      "metadata": {
        "id": "aC_19denXryW"
      },
      "source": [
        "%%bash\n",
        "cd drive/MyDrive/ColabNotebooks/anli\n",
        "source setup.sh\n",
        "sh script/example_scripts/train_roberta_small.sh"
      ],
      "execution_count": null,
      "outputs": []
    }
  ]
}