{
  "nbformat": 4,
  "nbformat_minor": 0,
  "metadata": {
    "colab": {
      "name": "cs7643_project-dedup.ipynb",
      "provenance": [],
      "collapsed_sections": []
    },
    "kernelspec": {
      "name": "python3",
      "display_name": "Python 3"
    },
    "language_info": {
      "name": "python"
    }
  },
  "cells": [
    {
      "cell_type": "code",
      "metadata": {
        "id": "yXJdRBSyrCsw"
      },
      "source": [
        "import pandas as pd\n",
        "import json\n",
        "import csv\n",
        "import numpy as np"
      ],
      "execution_count": null,
      "outputs": []
    },
    {
      "cell_type": "code",
      "metadata": {
        "id": "kbQtJupDsHrp"
      },
      "source": [
        "# Load the data\n",
        "df = pd.read_json('/content/train.jsonl', lines=True)"
      ],
      "execution_count": null,
      "outputs": []
    },
    {
      "cell_type": "code",
      "metadata": {
        "colab": {
          "base_uri": "https://localhost:8080/",
          "height": 202
        },
        "id": "P8dVJDD4zkDF",
        "outputId": "41588843-1299-4cca-c508-506fcec36acb"
      },
      "source": [
        "# Sanity check\n",
        "df.head(5)"
      ],
      "execution_count": null,
      "outputs": [
        {
          "output_type": "execute_result",
          "data": {
            "text/html": [
              "<div>\n",
              "<style scoped>\n",
              "    .dataframe tbody tr th:only-of-type {\n",
              "        vertical-align: middle;\n",
              "    }\n",
              "\n",
              "    .dataframe tbody tr th {\n",
              "        vertical-align: top;\n",
              "    }\n",
              "\n",
              "    .dataframe thead th {\n",
              "        text-align: right;\n",
              "    }\n",
              "</style>\n",
              "<table border=\"1\" class=\"dataframe\">\n",
              "  <thead>\n",
              "    <tr style=\"text-align: right;\">\n",
              "      <th></th>\n",
              "      <th>uid</th>\n",
              "      <th>context</th>\n",
              "      <th>hypothesis</th>\n",
              "      <th>label</th>\n",
              "      <th>model_label</th>\n",
              "      <th>emturk</th>\n",
              "      <th>genre</th>\n",
              "      <th>reason</th>\n",
              "      <th>tag</th>\n",
              "    </tr>\n",
              "  </thead>\n",
              "  <tbody>\n",
              "    <tr>\n",
              "      <th>0</th>\n",
              "      <td>96cb7e5c-bda4-40e5-8e25-b823027dfb66</td>\n",
              "      <td>A three-part referendum was held in Switzerlan...</td>\n",
              "      <td>Swiss voters went to polls on Saturday</td>\n",
              "      <td>c</td>\n",
              "      <td>n</td>\n",
              "      <td>False</td>\n",
              "      <td>wikipedia</td>\n",
              "      <td></td>\n",
              "      <td>r1_train</td>\n",
              "    </tr>\n",
              "    <tr>\n",
              "      <th>1</th>\n",
              "      <td>2a23eeee-c69e-4f82-b568-b8a8dd4b9c26</td>\n",
              "      <td>Aadesh Shrivastava (आदेश श्रीवास्तव) (4 Septem...</td>\n",
              "      <td>Aadesh Shrivastava had composed music the day ...</td>\n",
              "      <td>n</td>\n",
              "      <td>n</td>\n",
              "      <td>False</td>\n",
              "      <td>wikipedia</td>\n",
              "      <td></td>\n",
              "      <td>r1_train</td>\n",
              "    </tr>\n",
              "    <tr>\n",
              "      <th>2</th>\n",
              "      <td>35e394f6-10cb-4806-be15-c2c12f6632cc</td>\n",
              "      <td>Dewhurst v. Coulthard, 3 U.S. 409 (1799) , was...</td>\n",
              "      <td>The process that brought Dewhurst v. Coulthard...</td>\n",
              "      <td>e</td>\n",
              "      <td>e</td>\n",
              "      <td>False</td>\n",
              "      <td>wikipedia</td>\n",
              "      <td></td>\n",
              "      <td>r1_train</td>\n",
              "    </tr>\n",
              "    <tr>\n",
              "      <th>3</th>\n",
              "      <td>673610db-9acf-4eec-895c-1e2402f14813</td>\n",
              "      <td>Beryl Markham (née Clutterbuck, 26 October 190...</td>\n",
              "      <td>Beryl Markham wrote \"West with the Night\" when...</td>\n",
              "      <td>c</td>\n",
              "      <td>n</td>\n",
              "      <td>False</td>\n",
              "      <td>wikipedia</td>\n",
              "      <td></td>\n",
              "      <td>r1_train</td>\n",
              "    </tr>\n",
              "    <tr>\n",
              "      <th>4</th>\n",
              "      <td>a4f0b21c-39be-4512-b14f-bb5d7d4ab4bb</td>\n",
              "      <td>Nieznamierowice is a village in the administra...</td>\n",
              "      <td>Nieznamierowice is a village in Scotland.</td>\n",
              "      <td>c</td>\n",
              "      <td>c</td>\n",
              "      <td>False</td>\n",
              "      <td>wikipedia</td>\n",
              "      <td></td>\n",
              "      <td>r1_train</td>\n",
              "    </tr>\n",
              "  </tbody>\n",
              "</table>\n",
              "</div>"
            ],
            "text/plain": [
              "                                    uid  ...       tag\n",
              "0  96cb7e5c-bda4-40e5-8e25-b823027dfb66  ...  r1_train\n",
              "1  2a23eeee-c69e-4f82-b568-b8a8dd4b9c26  ...  r1_train\n",
              "2  35e394f6-10cb-4806-be15-c2c12f6632cc  ...  r1_train\n",
              "3  673610db-9acf-4eec-895c-1e2402f14813  ...  r1_train\n",
              "4  a4f0b21c-39be-4512-b14f-bb5d7d4ab4bb  ...  r1_train\n",
              "\n",
              "[5 rows x 9 columns]"
            ]
          },
          "metadata": {
            "tags": []
          },
          "execution_count": 19
        }
      ]
    },
    {
      "cell_type": "code",
      "metadata": {
        "colab": {
          "base_uri": "https://localhost:8080/"
        },
        "id": "lO3P-0-mzs70",
        "outputId": "d3548753-6d44-4e0a-c2fa-16d1779e0f1f"
      },
      "source": [
        "# Sanity check\n",
        "print(df.context[1])\n",
        "print(df.hypothesis[1])\n",
        "print(df.shape) # (45460, 9)"
      ],
      "execution_count": null,
      "outputs": [
        {
          "output_type": "stream",
          "text": [
            "Aadesh Shrivastava (आदेश श्रीवास्तव) (4 September 1964 – 5 September 2015) was a music composer and singer of Indian music. Over the course of his career, he had composed music for over 100 Hindi films. Just a day after he turned 51, he died of cancer in Kokilaben Hospital.\n",
            "Aadesh Shrivastava had composed music the day before before he died of cancer. \n",
            "(16206, 9)\n"
          ],
          "name": "stdout"
        }
      ]
    },
    {
      "cell_type": "code",
      "metadata": {
        "colab": {
          "base_uri": "https://localhost:8080/",
          "height": 414
        },
        "id": "KbN7e7QJzs5S",
        "outputId": "7134fae5-7841-4a69-d5cc-4a55445691f4"
      },
      "source": [
        "# Group the records per context and count the hypotheses\n",
        "df2 = df.groupby(['context']).size().reset_index(name='counts')\n",
        "df2"
      ],
      "execution_count": null,
      "outputs": [
        {
          "output_type": "execute_result",
          "data": {
            "text/html": [
              "<div>\n",
              "<style scoped>\n",
              "    .dataframe tbody tr th:only-of-type {\n",
              "        vertical-align: middle;\n",
              "    }\n",
              "\n",
              "    .dataframe tbody tr th {\n",
              "        vertical-align: top;\n",
              "    }\n",
              "\n",
              "    .dataframe thead th {\n",
              "        text-align: right;\n",
              "    }\n",
              "</style>\n",
              "<table border=\"1\" class=\"dataframe\">\n",
              "  <thead>\n",
              "    <tr style=\"text-align: right;\">\n",
              "      <th></th>\n",
              "      <th>context</th>\n",
              "      <th>counts</th>\n",
              "    </tr>\n",
              "  </thead>\n",
              "  <tbody>\n",
              "    <tr>\n",
              "      <th>0</th>\n",
              "      <td>\"\" was an English language French–Canadian act...</td>\n",
              "      <td>12</td>\n",
              "    </tr>\n",
              "    <tr>\n",
              "      <th>1</th>\n",
              "      <td>\"22\" is a song recorded by American singer-son...</td>\n",
              "      <td>8</td>\n",
              "    </tr>\n",
              "    <tr>\n",
              "      <th>2</th>\n",
              "      <td>\"Aama\" (आमा) (Literally: Mother) is the first ...</td>\n",
              "      <td>27</td>\n",
              "    </tr>\n",
              "    <tr>\n",
              "      <th>3</th>\n",
              "      <td>\"Ae Dil Hai Mushkil\" (English: \"This Heart is ...</td>\n",
              "      <td>22</td>\n",
              "    </tr>\n",
              "    <tr>\n",
              "      <th>4</th>\n",
              "      <td>\"All My Life\" is a song by the American band F...</td>\n",
              "      <td>15</td>\n",
              "    </tr>\n",
              "    <tr>\n",
              "      <th>...</th>\n",
              "      <td>...</td>\n",
              "      <td>...</td>\n",
              "    </tr>\n",
              "    <tr>\n",
              "      <th>2049</th>\n",
              "      <td>Zazie Beetz (born 1991) is a German-born, Amer...</td>\n",
              "      <td>5</td>\n",
              "    </tr>\n",
              "    <tr>\n",
              "      <th>2050</th>\n",
              "      <td>Zimbabwe is a landlocked country in southern A...</td>\n",
              "      <td>1</td>\n",
              "    </tr>\n",
              "    <tr>\n",
              "      <th>2051</th>\n",
              "      <td>Zunyi Xinzhou Airport (IATA: ZYI, ICAO: ZUZY) ...</td>\n",
              "      <td>5</td>\n",
              "    </tr>\n",
              "    <tr>\n",
              "      <th>2052</th>\n",
              "      <td>is an American band formed in Los Angeles by M...</td>\n",
              "      <td>2</td>\n",
              "    </tr>\n",
              "    <tr>\n",
              "      <th>2053</th>\n",
              "      <td>of Montreal is an American experimental pop ba...</td>\n",
              "      <td>3</td>\n",
              "    </tr>\n",
              "  </tbody>\n",
              "</table>\n",
              "<p>2054 rows × 2 columns</p>\n",
              "</div>"
            ],
            "text/plain": [
              "                                                context  counts\n",
              "0     \"\" was an English language French–Canadian act...      12\n",
              "1     \"22\" is a song recorded by American singer-son...       8\n",
              "2     \"Aama\" (आमा) (Literally: Mother) is the first ...      27\n",
              "3     \"Ae Dil Hai Mushkil\" (English: \"This Heart is ...      22\n",
              "4     \"All My Life\" is a song by the American band F...      15\n",
              "...                                                 ...     ...\n",
              "2049  Zazie Beetz (born 1991) is a German-born, Amer...       5\n",
              "2050  Zimbabwe is a landlocked country in southern A...       1\n",
              "2051  Zunyi Xinzhou Airport (IATA: ZYI, ICAO: ZUZY) ...       5\n",
              "2052  is an American band formed in Los Angeles by M...       2\n",
              "2053  of Montreal is an American experimental pop ba...       3\n",
              "\n",
              "[2054 rows x 2 columns]"
            ]
          },
          "metadata": {
            "tags": []
          },
          "execution_count": 21
        }
      ]
    },
    {
      "cell_type": "code",
      "metadata": {
        "colab": {
          "base_uri": "https://localhost:8080/",
          "height": 416
        },
        "id": "iDDT0tLx1Y7b",
        "outputId": "274df2cc-69e6-4b65-95c3-289bed01ffb5"
      },
      "source": [
        "# Sanity check\n",
        "example = df[df.context == df2.context[0]]\n",
        "example"
      ],
      "execution_count": null,
      "outputs": [
        {
          "output_type": "execute_result",
          "data": {
            "text/html": [
              "<div>\n",
              "<style scoped>\n",
              "    .dataframe tbody tr th:only-of-type {\n",
              "        vertical-align: middle;\n",
              "    }\n",
              "\n",
              "    .dataframe tbody tr th {\n",
              "        vertical-align: top;\n",
              "    }\n",
              "\n",
              "    .dataframe thead th {\n",
              "        text-align: right;\n",
              "    }\n",
              "</style>\n",
              "<table border=\"1\" class=\"dataframe\">\n",
              "  <thead>\n",
              "    <tr style=\"text-align: right;\">\n",
              "      <th></th>\n",
              "      <th>uid</th>\n",
              "      <th>context</th>\n",
              "      <th>hypothesis</th>\n",
              "      <th>label</th>\n",
              "      <th>model_label</th>\n",
              "      <th>emturk</th>\n",
              "      <th>genre</th>\n",
              "      <th>reason</th>\n",
              "      <th>tag</th>\n",
              "    </tr>\n",
              "  </thead>\n",
              "  <tbody>\n",
              "    <tr>\n",
              "      <th>6517</th>\n",
              "      <td>7febf549-7162-4253-84ba-0b00c4856205</td>\n",
              "      <td>\"\" was an English language French–Canadian act...</td>\n",
              "      <td>Transporter won many awards.</td>\n",
              "      <td>n</td>\n",
              "      <td>n</td>\n",
              "      <td>False</td>\n",
              "      <td>wikipedia</td>\n",
              "      <td></td>\n",
              "      <td>r1_train</td>\n",
              "    </tr>\n",
              "    <tr>\n",
              "      <th>6518</th>\n",
              "      <td>a81077f1-82f6-41ff-b3af-4acf89948bd3</td>\n",
              "      <td>\"\" was an English language French–Canadian act...</td>\n",
              "      <td>Transporter was a highly liked series.</td>\n",
              "      <td>n</td>\n",
              "      <td>n</td>\n",
              "      <td>False</td>\n",
              "      <td>wikipedia</td>\n",
              "      <td></td>\n",
              "      <td>r1_train</td>\n",
              "    </tr>\n",
              "    <tr>\n",
              "      <th>6519</th>\n",
              "      <td>6916938c-67f5-4288-acc1-b8250b23ec20</td>\n",
              "      <td>\"\" was an English language French–Canadian act...</td>\n",
              "      <td>Chris Vance loved acting as Frank Martin.</td>\n",
              "      <td>n</td>\n",
              "      <td>n</td>\n",
              "      <td>False</td>\n",
              "      <td>wikipedia</td>\n",
              "      <td></td>\n",
              "      <td>r1_train</td>\n",
              "    </tr>\n",
              "    <tr>\n",
              "      <th>6520</th>\n",
              "      <td>a1d01175-f297-4b23-93c5-4eb50f43591d</td>\n",
              "      <td>\"\" was an English language French–Canadian act...</td>\n",
              "      <td>Americans enjoy watching Transporter.</td>\n",
              "      <td>n</td>\n",
              "      <td>n</td>\n",
              "      <td>False</td>\n",
              "      <td>wikipedia</td>\n",
              "      <td></td>\n",
              "      <td>r1_train</td>\n",
              "    </tr>\n",
              "    <tr>\n",
              "      <th>6521</th>\n",
              "      <td>e7c25335-9a57-416c-be76-3c9e23d5fe1d</td>\n",
              "      <td>\"\" was an English language French–Canadian act...</td>\n",
              "      <td>There were talks to do a third season of Trans...</td>\n",
              "      <td>n</td>\n",
              "      <td>n</td>\n",
              "      <td>False</td>\n",
              "      <td>wikipedia</td>\n",
              "      <td></td>\n",
              "      <td>r1_train</td>\n",
              "    </tr>\n",
              "    <tr>\n",
              "      <th>6522</th>\n",
              "      <td>651d627e-8d9b-4d57-b2f0-0dfdfd686760</td>\n",
              "      <td>\"\" was an English language French–Canadian act...</td>\n",
              "      <td>The television series had two seasons with 6 e...</td>\n",
              "      <td>c</td>\n",
              "      <td>c</td>\n",
              "      <td>False</td>\n",
              "      <td>wikipedia</td>\n",
              "      <td></td>\n",
              "      <td>r1_train</td>\n",
              "    </tr>\n",
              "    <tr>\n",
              "      <th>6523</th>\n",
              "      <td>ba37cc22-860f-4284-bce2-fe44f984e1ac</td>\n",
              "      <td>\"\" was an English language French–Canadian act...</td>\n",
              "      <td>The TV series has 3 seasons, each comprising o...</td>\n",
              "      <td>c</td>\n",
              "      <td>c</td>\n",
              "      <td>False</td>\n",
              "      <td>wikipedia</td>\n",
              "      <td></td>\n",
              "      <td>r1_train</td>\n",
              "    </tr>\n",
              "    <tr>\n",
              "      <th>6524</th>\n",
              "      <td>df8e0cc3-0f6e-4b60-ab43-b1aadc09923d</td>\n",
              "      <td>\"\" was an English language French–Canadian act...</td>\n",
              "      <td>The Transporter television series was filmed i...</td>\n",
              "      <td>n</td>\n",
              "      <td>n</td>\n",
              "      <td>False</td>\n",
              "      <td>wikipedia</td>\n",
              "      <td></td>\n",
              "      <td>r1_train</td>\n",
              "    </tr>\n",
              "    <tr>\n",
              "      <th>6525</th>\n",
              "      <td>ad30eff3-4fe6-45bd-9593-0e81c3c3f2a2</td>\n",
              "      <td>\"\" was an English language French–Canadian act...</td>\n",
              "      <td>Each of the episodes of the Transporter televi...</td>\n",
              "      <td>n</td>\n",
              "      <td>n</td>\n",
              "      <td>False</td>\n",
              "      <td>wikipedia</td>\n",
              "      <td></td>\n",
              "      <td>r1_train</td>\n",
              "    </tr>\n",
              "    <tr>\n",
              "      <th>6526</th>\n",
              "      <td>f97e4ead-0dba-4200-b517-cfcffd0d10ca</td>\n",
              "      <td>\"\" was an English language French–Canadian act...</td>\n",
              "      <td>Chris Vance had a Canadian accent in the Trans...</td>\n",
              "      <td>n</td>\n",
              "      <td>n</td>\n",
              "      <td>False</td>\n",
              "      <td>wikipedia</td>\n",
              "      <td></td>\n",
              "      <td>r1_train</td>\n",
              "    </tr>\n",
              "    <tr>\n",
              "      <th>6527</th>\n",
              "      <td>d4d8dcfb-d68b-48bf-b66a-e099652e18e8</td>\n",
              "      <td>\"\" was an English language French–Canadian act...</td>\n",
              "      <td>Luc Besson wrote episodes for the Transporter ...</td>\n",
              "      <td>n</td>\n",
              "      <td>e</td>\n",
              "      <td>False</td>\n",
              "      <td>wikipedia</td>\n",
              "      <td>The context says that the Transporter film fra...</td>\n",
              "      <td>r1_train</td>\n",
              "    </tr>\n",
              "    <tr>\n",
              "      <th>6528</th>\n",
              "      <td>1548a43c-3387-4faf-945e-52aa05ed5ace</td>\n",
              "      <td>\"\" was an English language French–Canadian act...</td>\n",
              "      <td>The TV series ran for more than 3 years</td>\n",
              "      <td>c</td>\n",
              "      <td>e</td>\n",
              "      <td>False</td>\n",
              "      <td>wikipedia</td>\n",
              "      <td>The tv series ran from 2012 to 2014, which is ...</td>\n",
              "      <td>r1_train</td>\n",
              "    </tr>\n",
              "  </tbody>\n",
              "</table>\n",
              "</div>"
            ],
            "text/plain": [
              "                                       uid  ...       tag\n",
              "6517  7febf549-7162-4253-84ba-0b00c4856205  ...  r1_train\n",
              "6518  a81077f1-82f6-41ff-b3af-4acf89948bd3  ...  r1_train\n",
              "6519  6916938c-67f5-4288-acc1-b8250b23ec20  ...  r1_train\n",
              "6520  a1d01175-f297-4b23-93c5-4eb50f43591d  ...  r1_train\n",
              "6521  e7c25335-9a57-416c-be76-3c9e23d5fe1d  ...  r1_train\n",
              "6522  651d627e-8d9b-4d57-b2f0-0dfdfd686760  ...  r1_train\n",
              "6523  ba37cc22-860f-4284-bce2-fe44f984e1ac  ...  r1_train\n",
              "6524  df8e0cc3-0f6e-4b60-ab43-b1aadc09923d  ...  r1_train\n",
              "6525  ad30eff3-4fe6-45bd-9593-0e81c3c3f2a2  ...  r1_train\n",
              "6526  f97e4ead-0dba-4200-b517-cfcffd0d10ca  ...  r1_train\n",
              "6527  d4d8dcfb-d68b-48bf-b66a-e099652e18e8  ...  r1_train\n",
              "6528  1548a43c-3387-4faf-945e-52aa05ed5ace  ...  r1_train\n",
              "\n",
              "[12 rows x 9 columns]"
            ]
          },
          "metadata": {
            "tags": []
          },
          "execution_count": 22
        }
      ]
    },
    {
      "cell_type": "code",
      "metadata": {
        "colab": {
          "base_uri": "https://localhost:8080/",
          "height": 414
        },
        "id": "bpIKUtu57EJW",
        "outputId": "9c9cd3ce-6119-4edc-db45-fb9c2069a3f1"
      },
      "source": [
        "# Sort by count; descending\n",
        "df3 = df2.sort_values(by='counts', ascending=False)\n",
        "df3   \n",
        "# Original record count: # 16946 \n",
        "# Unique context count: 2054 "
      ],
      "execution_count": null,
      "outputs": [
        {
          "output_type": "execute_result",
          "data": {
            "text/html": [
              "<div>\n",
              "<style scoped>\n",
              "    .dataframe tbody tr th:only-of-type {\n",
              "        vertical-align: middle;\n",
              "    }\n",
              "\n",
              "    .dataframe tbody tr th {\n",
              "        vertical-align: top;\n",
              "    }\n",
              "\n",
              "    .dataframe thead th {\n",
              "        text-align: right;\n",
              "    }\n",
              "</style>\n",
              "<table border=\"1\" class=\"dataframe\">\n",
              "  <thead>\n",
              "    <tr style=\"text-align: right;\">\n",
              "      <th></th>\n",
              "      <th>context</th>\n",
              "      <th>counts</th>\n",
              "    </tr>\n",
              "  </thead>\n",
              "  <tbody>\n",
              "    <tr>\n",
              "      <th>413</th>\n",
              "      <td>Cowie Castle is a ruined fortress in Aberdeens...</td>\n",
              "      <td>36</td>\n",
              "    </tr>\n",
              "    <tr>\n",
              "      <th>920</th>\n",
              "      <td>Little Jost Van Dyke (colloquially, \"Little Jo...</td>\n",
              "      <td>35</td>\n",
              "    </tr>\n",
              "    <tr>\n",
              "      <th>1175</th>\n",
              "      <td>Peter Franklin Paul (born September 2, 1948) i...</td>\n",
              "      <td>34</td>\n",
              "    </tr>\n",
              "    <tr>\n",
              "      <th>1105</th>\n",
              "      <td>North East Lincolnshire is a unitary authority...</td>\n",
              "      <td>34</td>\n",
              "    </tr>\n",
              "    <tr>\n",
              "      <th>1999</th>\n",
              "      <td>Westminster, Ellesmere Port is a suburb of the...</td>\n",
              "      <td>32</td>\n",
              "    </tr>\n",
              "    <tr>\n",
              "      <th>...</th>\n",
              "      <td>...</td>\n",
              "      <td>...</td>\n",
              "    </tr>\n",
              "    <tr>\n",
              "      <th>1988</th>\n",
              "      <td>We Were Soldiers is a 2002 American war film t...</td>\n",
              "      <td>1</td>\n",
              "    </tr>\n",
              "    <tr>\n",
              "      <th>313</th>\n",
              "      <td>Brutus de Villeroi (1794–1874) was a French en...</td>\n",
              "      <td>1</td>\n",
              "    </tr>\n",
              "    <tr>\n",
              "      <th>903</th>\n",
              "      <td>Lee Jae-jin (Hangul: 이재진 ; Hanja: 李在真 ; Japane...</td>\n",
              "      <td>1</td>\n",
              "    </tr>\n",
              "    <tr>\n",
              "      <th>525</th>\n",
              "      <td>Elliott V Bell (September 25, 1902 - January 1...</td>\n",
              "      <td>1</td>\n",
              "    </tr>\n",
              "    <tr>\n",
              "      <th>612</th>\n",
              "      <td>George Dayton (born 1827, died 1938) lived in ...</td>\n",
              "      <td>1</td>\n",
              "    </tr>\n",
              "  </tbody>\n",
              "</table>\n",
              "<p>2054 rows × 2 columns</p>\n",
              "</div>"
            ],
            "text/plain": [
              "                                                context  counts\n",
              "413   Cowie Castle is a ruined fortress in Aberdeens...      36\n",
              "920   Little Jost Van Dyke (colloquially, \"Little Jo...      35\n",
              "1175  Peter Franklin Paul (born September 2, 1948) i...      34\n",
              "1105  North East Lincolnshire is a unitary authority...      34\n",
              "1999  Westminster, Ellesmere Port is a suburb of the...      32\n",
              "...                                                 ...     ...\n",
              "1988  We Were Soldiers is a 2002 American war film t...       1\n",
              "313   Brutus de Villeroi (1794–1874) was a French en...       1\n",
              "903   Lee Jae-jin (Hangul: 이재진 ; Hanja: 李在真 ; Japane...       1\n",
              "525   Elliott V Bell (September 25, 1902 - January 1...       1\n",
              "612   George Dayton (born 1827, died 1938) lived in ...       1\n",
              "\n",
              "[2054 rows x 2 columns]"
            ]
          },
          "metadata": {
            "tags": []
          },
          "execution_count": 23
        }
      ]
    },
    {
      "cell_type": "markdown",
      "metadata": {
        "id": "XIWV_s99A6qe"
      },
      "source": [
        "https://www.tensorflow.org/hub/tutorials/semantic_similarity_with_tf_hub_universal_encoder  \n",
        "Universal Sentence Encoder  \n",
        "\n",
        "You can train your doc2vec model following this link.  \n",
        "https://rare-technologies.com/doc2vec-tutorial/  \n",
        "\n",
        "https://datascience.stackexchange.com/questions/23969/  \n",
        "sentence-similarity-prediction  \n",
        "1. Use tfidfvectorizer to get a vector representation of each text\n",
        "2. Fit the vectorizer with your data, removing stop-words.\n",
        "3. Transform the new entry with the vectorizer previously trained\n",
        "4. Compute the cosine similarity between this representation and each representation of the elements in your data set.  \n",
        "\n",
        "doc2vec  \n",
        "https://rare-technologies.com/doc2vec-tutorial/\n"
      ]
    },
    {
      "cell_type": "code",
      "metadata": {
        "id": "kPcQPVVrDEFc"
      },
      "source": [
        "# Standard list of stop words \n",
        "stop_words = ['ourselves', 'hers', 'between', 'yourself', 'but', 'again', 'there', 'about', 'once', 'during', 'out', 'very', 'having', 'with', 'they', 'own', 'an', 'be', 'some', 'for', 'do', 'its', 'yours', 'such', 'into', 'of', 'most', 'itself', 'other', 'off', 'is', 's', 'am', 'or', 'who', 'as', 'from', 'him', 'each', 'the', 'themselves', 'until', 'below', 'are', 'we', 'these', 'your', 'his', 'through', 'don', 'nor', 'me', 'were', 'her', 'more', 'himself', 'this', 'down', 'should', 'our', 'their', 'while', 'above', 'both', 'up', 'to', 'ours', 'had', 'she', 'all', 'no', 'when', 'at', 'any', 'before', 'them', 'same', 'and', 'been', 'have', 'in', 'will', 'on', 'does', 'yourselves', 'then', 'that', 'because', 'what', 'over', 'why', 'so', 'can', 'did', 'not', 'now', 'under', 'he', 'you', 'herself', 'has', 'just', 'where', 'too', 'only', 'myself', 'which', 'those', 'i', 'after', 'few', 'whom', 't', 'being', 'if', 'theirs', 'my', 'against', 'a', 'by', 'doing', 'it', 'how', 'further', 'was', 'here', 'than']"
      ],
      "execution_count": null,
      "outputs": []
    },
    {
      "cell_type": "code",
      "metadata": {
        "id": "GShFvvYhg_VP"
      },
      "source": [
        "# Remove some stop words from the original list, for e.g., \"not\" for better accuracy.\n",
        "stop_words = ['ourselves', 'hers', 'yourself', 'again', 'there', 'about', 'once', 'during', 'out', 'very', 'having', 'with', 'they', 'own', 'an', 'be', 'some', 'for', 'do', 'its', 'yours', 'such', 'into', 'of', 'most', 'itself', 'other', 'off', 's', 'am', 'or', 'who', 'as', 'from', 'him', 'each', 'the', 'themselves', 'below', 'are', 'we', 'these', 'your', 'his', 'through', 'me', 'were', 'her', 'more', 'himself', 'this', 'down', 'should', 'our', 'their', 'while', 'above', 'both', 'up', 'to', 'ours', 'had', 'she', 'all', 'when', 'at', 'any', 'before', 'them', 'same', 'and', 'been', 'have', 'in', 'will', 'on', 'does', 'yourselves', 'then', 'that', 'because', 'what', 'over', 'so', 'now', 'he', 'you', 'herself', 'has', 'just', 'where', 'myself', 'which', 'those', 'few', 'whom', 'being', 'theirs', 'my', 'a', 'by', 'doing', 'it', 'further', 'was', 'here']"
      ],
      "execution_count": null,
      "outputs": []
    },
    {
      "cell_type": "code",
      "metadata": {
        "colab": {
          "base_uri": "https://localhost:8080/",
          "height": 202
        },
        "id": "sEBbtxasDECq",
        "outputId": "ca3d53b3-e5e9-468f-d3e3-e7e0c5ffabb5"
      },
      "source": [
        "# Remove stop words from hypotheses.\n",
        "df_no_stopword = df.copy()\n",
        "pat = r'\\b(?:{})\\b'.format('|'.join(stop_words))\n",
        "df_no_stopword['h_no_sw'] = df_no_stopword['hypothesis'].str.replace(pat, '')\n",
        "df_no_stopword.head()"
      ],
      "execution_count": null,
      "outputs": [
        {
          "output_type": "execute_result",
          "data": {
            "text/html": [
              "<div>\n",
              "<style scoped>\n",
              "    .dataframe tbody tr th:only-of-type {\n",
              "        vertical-align: middle;\n",
              "    }\n",
              "\n",
              "    .dataframe tbody tr th {\n",
              "        vertical-align: top;\n",
              "    }\n",
              "\n",
              "    .dataframe thead th {\n",
              "        text-align: right;\n",
              "    }\n",
              "</style>\n",
              "<table border=\"1\" class=\"dataframe\">\n",
              "  <thead>\n",
              "    <tr style=\"text-align: right;\">\n",
              "      <th></th>\n",
              "      <th>uid</th>\n",
              "      <th>context</th>\n",
              "      <th>hypothesis</th>\n",
              "      <th>label</th>\n",
              "      <th>model_label</th>\n",
              "      <th>emturk</th>\n",
              "      <th>genre</th>\n",
              "      <th>reason</th>\n",
              "      <th>tag</th>\n",
              "      <th>h_no_sw</th>\n",
              "    </tr>\n",
              "  </thead>\n",
              "  <tbody>\n",
              "    <tr>\n",
              "      <th>0</th>\n",
              "      <td>96cb7e5c-bda4-40e5-8e25-b823027dfb66</td>\n",
              "      <td>A three-part referendum was held in Switzerlan...</td>\n",
              "      <td>Swiss voters went to polls on Saturday</td>\n",
              "      <td>c</td>\n",
              "      <td>n</td>\n",
              "      <td>False</td>\n",
              "      <td>wikipedia</td>\n",
              "      <td></td>\n",
              "      <td>r1_train</td>\n",
              "      <td>Swiss voters went  polls  Saturday</td>\n",
              "    </tr>\n",
              "    <tr>\n",
              "      <th>1</th>\n",
              "      <td>2a23eeee-c69e-4f82-b568-b8a8dd4b9c26</td>\n",
              "      <td>Aadesh Shrivastava (आदेश श्रीवास्तव) (4 Septem...</td>\n",
              "      <td>Aadesh Shrivastava had composed music the day ...</td>\n",
              "      <td>n</td>\n",
              "      <td>n</td>\n",
              "      <td>False</td>\n",
              "      <td>wikipedia</td>\n",
              "      <td></td>\n",
              "      <td>r1_train</td>\n",
              "      <td>Aadesh Shrivastava  composed music  day    die...</td>\n",
              "    </tr>\n",
              "    <tr>\n",
              "      <th>2</th>\n",
              "      <td>35e394f6-10cb-4806-be15-c2c12f6632cc</td>\n",
              "      <td>Dewhurst v. Coulthard, 3 U.S. 409 (1799) , was...</td>\n",
              "      <td>The process that brought Dewhurst v. Coulthard...</td>\n",
              "      <td>e</td>\n",
              "      <td>e</td>\n",
              "      <td>False</td>\n",
              "      <td>wikipedia</td>\n",
              "      <td></td>\n",
              "      <td>r1_train</td>\n",
              "      <td>The process  brought Dewhurst v. Coulthard   S...</td>\n",
              "    </tr>\n",
              "    <tr>\n",
              "      <th>3</th>\n",
              "      <td>673610db-9acf-4eec-895c-1e2402f14813</td>\n",
              "      <td>Beryl Markham (née Clutterbuck, 26 October 190...</td>\n",
              "      <td>Beryl Markham wrote \"West with the Night\" when...</td>\n",
              "      <td>c</td>\n",
              "      <td>n</td>\n",
              "      <td>False</td>\n",
              "      <td>wikipedia</td>\n",
              "      <td></td>\n",
              "      <td>r1_train</td>\n",
              "      <td>Beryl Markham wrote \"West   Night\"    86 years...</td>\n",
              "    </tr>\n",
              "    <tr>\n",
              "      <th>4</th>\n",
              "      <td>a4f0b21c-39be-4512-b14f-bb5d7d4ab4bb</td>\n",
              "      <td>Nieznamierowice is a village in the administra...</td>\n",
              "      <td>Nieznamierowice is a village in Scotland.</td>\n",
              "      <td>c</td>\n",
              "      <td>c</td>\n",
              "      <td>False</td>\n",
              "      <td>wikipedia</td>\n",
              "      <td></td>\n",
              "      <td>r1_train</td>\n",
              "      <td>Nieznamierowice   village  Scotland.</td>\n",
              "    </tr>\n",
              "  </tbody>\n",
              "</table>\n",
              "</div>"
            ],
            "text/plain": [
              "                                    uid  ...                                            h_no_sw\n",
              "0  96cb7e5c-bda4-40e5-8e25-b823027dfb66  ...                 Swiss voters went  polls  Saturday\n",
              "1  2a23eeee-c69e-4f82-b568-b8a8dd4b9c26  ...  Aadesh Shrivastava  composed music  day    die...\n",
              "2  35e394f6-10cb-4806-be15-c2c12f6632cc  ...  The process  brought Dewhurst v. Coulthard   S...\n",
              "3  673610db-9acf-4eec-895c-1e2402f14813  ...  Beryl Markham wrote \"West   Night\"    86 years...\n",
              "4  a4f0b21c-39be-4512-b14f-bb5d7d4ab4bb  ...               Nieznamierowice   village  Scotland.\n",
              "\n",
              "[5 rows x 10 columns]"
            ]
          },
          "metadata": {
            "tags": []
          },
          "execution_count": 9
        }
      ]
    },
    {
      "cell_type": "code",
      "metadata": {
        "colab": {
          "base_uri": "https://localhost:8080/",
          "height": 655
        },
        "id": "reCilJhxOL0p",
        "outputId": "3bc872cc-b1d3-4501-f4ef-e8bc4461951d"
      },
      "source": [
        "# Reference: https://medium.com/spark-nlp/easy-sentence-similarity-with-bert-sentence-embeddings-using-john-snow-labs-nlu-ea078deb6ebf\n",
        "# Install NLU   https://pypi.org/project/nlu/\n",
        "import os \n",
        "! apt-get update -qq > /dev/null    \n",
        "# Install java \n",
        "! apt-get install -y openjdk-8-jdk-headless -qq > /dev/null os.environ[\"JAVA_HOME\"] = \"/usr/lib/jvm/java-8-openjdk-amd64\" os.environ[\"PATH\"] = os.environ[\"JAVA_HOME\"] + \"/bin:\" + os.environ[\"PATH\"] \n",
        "! pip install pyspark==3.0.2\n",
        "! pip install nlu \n",
        "import nlu"
      ],
      "execution_count": null,
      "outputs": [
        {
          "output_type": "stream",
          "text": [
            "E: Unsupported file /usr/lib/jvm/java-8-openjdk-amd64 given on commandline\n",
            "E: Unsupported file /bin: given on commandline\n",
            "Collecting pyspark==3.0.2\n",
            "  Downloading pyspark-3.0.2.tar.gz (204.8 MB)\n",
            "\u001b[K     |████████████████████████████████| 204.8 MB 52 kB/s \n",
            "\u001b[?25hCollecting py4j==0.10.9\n",
            "  Downloading py4j-0.10.9-py2.py3-none-any.whl (198 kB)\n",
            "\u001b[K     |████████████████████████████████| 198 kB 22.5 MB/s \n",
            "\u001b[?25hBuilding wheels for collected packages: pyspark\n",
            "  Building wheel for pyspark (setup.py) ... \u001b[?25l\u001b[?25hdone\n",
            "  Created wheel for pyspark: filename=pyspark-3.0.2-py2.py3-none-any.whl size=205186687 sha256=e7ff72206a117adfa0c69b246f3d8420cc0aafd803eafd6d5f4db0b150e19cb6\n",
            "  Stored in directory: /root/.cache/pip/wheels/9a/39/f6/970565f38054a830e9a8593f388b36e14d75dba6c6fdafc1ec\n",
            "Successfully built pyspark\n",
            "Installing collected packages: py4j, pyspark\n",
            "Successfully installed py4j-0.10.9 pyspark-3.0.2\n",
            "Collecting nlu\n",
            "  Downloading nlu-3.1.1-py3-none-any.whl (455 kB)\n",
            "\u001b[K     |████████████████████████████████| 455 kB 32.3 MB/s \n",
            "\u001b[?25hRequirement already satisfied: numpy in /usr/local/lib/python3.7/dist-packages (from nlu) (1.19.5)\n",
            "Requirement already satisfied: pyarrow>=0.16.0 in /usr/local/lib/python3.7/dist-packages (from nlu) (3.0.0)\n",
            "Collecting spark-nlp<3.2.0,>=3.1.0\n",
            "  Downloading spark_nlp-3.1.3-py2.py3-none-any.whl (91 kB)\n",
            "\u001b[K     |████████████████████████████████| 91 kB 10.0 MB/s \n",
            "\u001b[?25hRequirement already satisfied: pandas in /usr/local/lib/python3.7/dist-packages (from nlu) (1.1.5)\n",
            "Collecting dataclasses\n",
            "  Downloading dataclasses-0.6-py3-none-any.whl (14 kB)\n",
            "Requirement already satisfied: pytz>=2017.2 in /usr/local/lib/python3.7/dist-packages (from pandas->nlu) (2018.9)\n",
            "Requirement already satisfied: python-dateutil>=2.7.3 in /usr/local/lib/python3.7/dist-packages (from pandas->nlu) (2.8.1)\n",
            "Requirement already satisfied: six>=1.5 in /usr/local/lib/python3.7/dist-packages (from python-dateutil>=2.7.3->pandas->nlu) (1.15.0)\n",
            "Installing collected packages: spark-nlp, dataclasses, nlu\n",
            "Successfully installed dataclasses-0.6 nlu-3.1.1 spark-nlp-3.1.3\n"
          ],
          "name": "stdout"
        },
        {
          "output_type": "display_data",
          "data": {
            "application/vnd.colab-display-data+json": {
              "pip_warning": {
                "packages": [
                  "dataclasses"
                ]
              }
            }
          },
          "metadata": {
            "tags": []
          }
        }
      ]
    },
    {
      "cell_type": "markdown",
      "metadata": {
        "id": "s_nQ8f-5n6cC"
      },
      "source": [
        "**Experiments below. Please go to section \"Final Solution\" belower for final solution**"
      ]
    },
    {
      "cell_type": "code",
      "metadata": {
        "id": "vmuuYNpyeZRe"
      },
      "source": [
        ""
      ],
      "execution_count": null,
      "outputs": []
    },
    {
      "cell_type": "code",
      "metadata": {
        "colab": {
          "base_uri": "https://localhost:8080/",
          "height": 524
        },
        "id": "yQglDQDpUua7",
        "outputId": "63b88364-b1c3-4569-e5c6-5ed1ca18832e"
      },
      "source": [
        "pipe = nlu.load('embed_sentence.bert')\n",
        "predictions = pipe.predict(df3.context, output_level='document')\n",
        "predictions"
      ],
      "execution_count": null,
      "outputs": [
        {
          "output_type": "stream",
          "text": [
            "sent_small_bert_L2_128 download started this may take some time.\n",
            "Approximate size to download 16.1 MB\n",
            "[OK!]\n",
            "sentence_detector_dl download started this may take some time.\n",
            "Approximate size to download 354.6 KB\n",
            "[OK!]\n"
          ],
          "name": "stdout"
        },
        {
          "output_type": "execute_result",
          "data": {
            "text/html": [
              "<div>\n",
              "<style scoped>\n",
              "    .dataframe tbody tr th:only-of-type {\n",
              "        vertical-align: middle;\n",
              "    }\n",
              "\n",
              "    .dataframe tbody tr th {\n",
              "        vertical-align: top;\n",
              "    }\n",
              "\n",
              "    .dataframe thead th {\n",
              "        text-align: right;\n",
              "    }\n",
              "</style>\n",
              "<table border=\"1\" class=\"dataframe\">\n",
              "  <thead>\n",
              "    <tr style=\"text-align: right;\">\n",
              "      <th></th>\n",
              "      <th>text</th>\n",
              "      <th>sentence_embedding_bert</th>\n",
              "      <th>document</th>\n",
              "    </tr>\n",
              "  </thead>\n",
              "  <tbody>\n",
              "    <tr>\n",
              "      <th>0</th>\n",
              "      <td>Little Jost Van Dyke (colloquially, \"Little Jo...</td>\n",
              "      <td>[-0.7006797194480896, 0.6732551455497742, -0.1...</td>\n",
              "      <td>Little Jost Van Dyke (colloquially, \"Little Jo...</td>\n",
              "    </tr>\n",
              "    <tr>\n",
              "      <th>1</th>\n",
              "      <td>Cowie Castle is a ruined fortress in Aberdeens...</td>\n",
              "      <td>[0.022199459373950958, 0.765879213809967, -0.1...</td>\n",
              "      <td>Cowie Castle is a ruined fortress in Aberdeens...</td>\n",
              "    </tr>\n",
              "    <tr>\n",
              "      <th>2</th>\n",
              "      <td>North East Lincolnshire is a unitary authority...</td>\n",
              "      <td>[0.052244216203689575, 0.9136687517166138, -0....</td>\n",
              "      <td>North East Lincolnshire is a unitary authority...</td>\n",
              "    </tr>\n",
              "    <tr>\n",
              "      <th>3</th>\n",
              "      <td>Peter Franklin Paul (born September 2, 1948) i...</td>\n",
              "      <td>[-0.18376591801643372, 0.6094191074371338, -0....</td>\n",
              "      <td>Peter Franklin Paul (born September 2, 1948) i...</td>\n",
              "    </tr>\n",
              "    <tr>\n",
              "      <th>4</th>\n",
              "      <td>Westminster, Ellesmere Port is a suburb of the...</td>\n",
              "      <td>[0.3905686140060425, 1.1333662271499634, -0.16...</td>\n",
              "      <td>Westminster, Ellesmere Port is a suburb of the...</td>\n",
              "    </tr>\n",
              "    <tr>\n",
              "      <th>...</th>\n",
              "      <td>...</td>\n",
              "      <td>...</td>\n",
              "      <td>...</td>\n",
              "    </tr>\n",
              "    <tr>\n",
              "      <th>2049</th>\n",
              "      <td>It Takes a Village: And Other Lessons Children...</td>\n",
              "      <td>[-0.8218708634376526, 0.48154234886169434, -0....</td>\n",
              "      <td>It Takes a Village: And Other Lessons Children...</td>\n",
              "    </tr>\n",
              "    <tr>\n",
              "      <th>2050</th>\n",
              "      <td>Iron Horse Bicycles was a manufacturer of bicy...</td>\n",
              "      <td>[0.560478150844574, 1.1115692853927612, 0.0566...</td>\n",
              "      <td>Iron Horse Bicycles was a manufacturer of bicy...</td>\n",
              "    </tr>\n",
              "    <tr>\n",
              "      <th>2051</th>\n",
              "      <td>Earl Mountbatten of Burma is a title in the Pe...</td>\n",
              "      <td>[-0.34414786100387573, 1.0039503574371338, -0....</td>\n",
              "      <td>Earl Mountbatten of Burma is a title in the Pe...</td>\n",
              "    </tr>\n",
              "    <tr>\n",
              "      <th>2052</th>\n",
              "      <td>In ethology and cognitive ethology, the hawk/g...</td>\n",
              "      <td>[-0.905080258846283, 0.3284188210964203, 0.126...</td>\n",
              "      <td>In ethology and cognitive ethology, the hawk/g...</td>\n",
              "    </tr>\n",
              "    <tr>\n",
              "      <th>2053</th>\n",
              "      <td>Beryl Markham (née Clutterbuck, 26 October 190...</td>\n",
              "      <td>[-0.06941001117229462, 0.7722496390342712, 0.0...</td>\n",
              "      <td>Beryl Markham (née Clutterbuck, 26 October 190...</td>\n",
              "    </tr>\n",
              "  </tbody>\n",
              "</table>\n",
              "<p>2054 rows × 3 columns</p>\n",
              "</div>"
            ],
            "text/plain": [
              "                                                   text  ...                                           document\n",
              "0     Little Jost Van Dyke (colloquially, \"Little Jo...  ...  Little Jost Van Dyke (colloquially, \"Little Jo...\n",
              "1     Cowie Castle is a ruined fortress in Aberdeens...  ...  Cowie Castle is a ruined fortress in Aberdeens...\n",
              "2     North East Lincolnshire is a unitary authority...  ...  North East Lincolnshire is a unitary authority...\n",
              "3     Peter Franklin Paul (born September 2, 1948) i...  ...  Peter Franklin Paul (born September 2, 1948) i...\n",
              "4     Westminster, Ellesmere Port is a suburb of the...  ...  Westminster, Ellesmere Port is a suburb of the...\n",
              "...                                                 ...  ...                                                ...\n",
              "2049  It Takes a Village: And Other Lessons Children...  ...  It Takes a Village: And Other Lessons Children...\n",
              "2050  Iron Horse Bicycles was a manufacturer of bicy...  ...  Iron Horse Bicycles was a manufacturer of bicy...\n",
              "2051  Earl Mountbatten of Burma is a title in the Pe...  ...  Earl Mountbatten of Burma is a title in the Pe...\n",
              "2052  In ethology and cognitive ethology, the hawk/g...  ...  In ethology and cognitive ethology, the hawk/g...\n",
              "2053  Beryl Markham (née Clutterbuck, 26 October 190...  ...  Beryl Markham (née Clutterbuck, 26 October 190...\n",
              "\n",
              "[2054 rows x 3 columns]"
            ]
          },
          "metadata": {
            "tags": []
          },
          "execution_count": 11
        }
      ]
    },
    {
      "cell_type": "code",
      "metadata": {
        "id": "xUsc-OcVaU6s"
      },
      "source": [
        "from sklearn.metrics.pairwise import cosine_similarity"
      ],
      "execution_count": null,
      "outputs": []
    },
    {
      "cell_type": "code",
      "metadata": {
        "colab": {
          "base_uri": "https://localhost:8080/",
          "height": 456
        },
        "id": "SFU_RDbOUuYB",
        "outputId": "99c67467-4e07-44b7-d5bf-b34c31a749f3"
      },
      "source": [
        "# Get the most similar sentences for a sentence\n",
        "\n",
        "# sentence_embedding_bert to matrix\n",
        "e_col = 'sentence_embedding_bert'\n",
        "embed_mat = np.array([x for x in predictions[e_col]])\n",
        "\n",
        "# calculate distance between every embedding pair\n",
        "sim_mat = cosine_similarity(embed_mat, embed_mat)\n",
        "\n",
        "#get similarity score for a given sentence at position df.iloc[sentence_id]\n",
        "sentence_id = 0\n",
        "print(\"Similarities for Sentence : \" + df3.iloc[sentence_id].context)\n",
        "\n",
        "# write sim scores to df\n",
        "sim_df3 = df3.copy()\n",
        "sim_df3['sim_score'] = sim_mat[sentence_id]\n",
        "sim_df3.sort_values('sim_score', ascending = False)"
      ],
      "execution_count": null,
      "outputs": [
        {
          "output_type": "stream",
          "text": [
            "Similarities for Sentence : Little Jost Van Dyke (colloquially, \"Little Jost\") is one of the British Virgin Islands. It is a small island on the east end of the island of Jost Van Dyke. Like Jost Van Dyke, it takes its name from the Dutch privateer Joost van Dyk. It is the location of the Diamond Cay National Park, which includes the nesting grounds of wild boobies, terns and pelicans.\n"
          ],
          "name": "stdout"
        },
        {
          "output_type": "execute_result",
          "data": {
            "text/html": [
              "<div>\n",
              "<style scoped>\n",
              "    .dataframe tbody tr th:only-of-type {\n",
              "        vertical-align: middle;\n",
              "    }\n",
              "\n",
              "    .dataframe tbody tr th {\n",
              "        vertical-align: top;\n",
              "    }\n",
              "\n",
              "    .dataframe thead th {\n",
              "        text-align: right;\n",
              "    }\n",
              "</style>\n",
              "<table border=\"1\" class=\"dataframe\">\n",
              "  <thead>\n",
              "    <tr style=\"text-align: right;\">\n",
              "      <th></th>\n",
              "      <th>context</th>\n",
              "      <th>counts</th>\n",
              "      <th>sim_score</th>\n",
              "    </tr>\n",
              "  </thead>\n",
              "  <tbody>\n",
              "    <tr>\n",
              "      <th>920</th>\n",
              "      <td>Little Jost Van Dyke (colloquially, \"Little Jo...</td>\n",
              "      <td>39</td>\n",
              "      <td>1.000000</td>\n",
              "    </tr>\n",
              "    <tr>\n",
              "      <th>694</th>\n",
              "      <td>Hyams Beach is a seaside village in the City o...</td>\n",
              "      <td>8</td>\n",
              "      <td>0.916830</td>\n",
              "    </tr>\n",
              "    <tr>\n",
              "      <th>861</th>\n",
              "      <td>Kisimul Castle (Scottish Gaelic: \"Caisteal Chi...</td>\n",
              "      <td>5</td>\n",
              "      <td>0.908074</td>\n",
              "    </tr>\n",
              "    <tr>\n",
              "      <th>1010</th>\n",
              "      <td>Merimbula Merimbula is a town on the Merimbula...</td>\n",
              "      <td>9</td>\n",
              "      <td>0.905649</td>\n",
              "    </tr>\n",
              "    <tr>\n",
              "      <th>1293</th>\n",
              "      <td>Rudolph the Red-Nosed Reindeer is a legendary ...</td>\n",
              "      <td>22</td>\n",
              "      <td>0.905494</td>\n",
              "    </tr>\n",
              "    <tr>\n",
              "      <th>...</th>\n",
              "      <td>...</td>\n",
              "      <td>...</td>\n",
              "      <td>...</td>\n",
              "    </tr>\n",
              "    <tr>\n",
              "      <th>849</th>\n",
              "      <td>Kerala Janapaksham ('Kerala People's Party') i...</td>\n",
              "      <td>18</td>\n",
              "      <td>0.643885</td>\n",
              "    </tr>\n",
              "    <tr>\n",
              "      <th>1234</th>\n",
              "      <td>Ram Charan is an Indian film actor, dancer, pr...</td>\n",
              "      <td>12</td>\n",
              "      <td>0.641895</td>\n",
              "    </tr>\n",
              "    <tr>\n",
              "      <th>1292</th>\n",
              "      <td>Rudolf Khametovich Nureyev (Bashkir: Рудольф Х...</td>\n",
              "      <td>11</td>\n",
              "      <td>0.632541</td>\n",
              "    </tr>\n",
              "    <tr>\n",
              "      <th>151</th>\n",
              "      <td>Aikya Kerala Congress was an alliance consisti...</td>\n",
              "      <td>6</td>\n",
              "      <td>0.601240</td>\n",
              "    </tr>\n",
              "    <tr>\n",
              "      <th>297</th>\n",
              "      <td>Bramhapuri (Vidhan Sabha constituency) is one ...</td>\n",
              "      <td>1</td>\n",
              "      <td>0.581972</td>\n",
              "    </tr>\n",
              "  </tbody>\n",
              "</table>\n",
              "<p>2054 rows × 3 columns</p>\n",
              "</div>"
            ],
            "text/plain": [
              "                                                context  counts  sim_score\n",
              "920   Little Jost Van Dyke (colloquially, \"Little Jo...      39   1.000000\n",
              "694   Hyams Beach is a seaside village in the City o...       8   0.916830\n",
              "861   Kisimul Castle (Scottish Gaelic: \"Caisteal Chi...       5   0.908074\n",
              "1010  Merimbula Merimbula is a town on the Merimbula...       9   0.905649\n",
              "1293  Rudolph the Red-Nosed Reindeer is a legendary ...      22   0.905494\n",
              "...                                                 ...     ...        ...\n",
              "849   Kerala Janapaksham ('Kerala People's Party') i...      18   0.643885\n",
              "1234  Ram Charan is an Indian film actor, dancer, pr...      12   0.641895\n",
              "1292  Rudolf Khametovich Nureyev (Bashkir: Рудольф Х...      11   0.632541\n",
              "151   Aikya Kerala Congress was an alliance consisti...       6   0.601240\n",
              "297   Bramhapuri (Vidhan Sabha constituency) is one ...       1   0.581972\n",
              "\n",
              "[2054 rows x 3 columns]"
            ]
          },
          "metadata": {
            "tags": []
          },
          "execution_count": 13
        }
      ]
    },
    {
      "cell_type": "code",
      "metadata": {
        "colab": {
          "base_uri": "https://localhost:8080/"
        },
        "id": "lErNdBD7c3fI",
        "outputId": "9157df05-8c4b-4b09-e582-18c052fa98af"
      },
      "source": [
        "embed_mat.shape #(number of unique context entries, number of predicted similar sentences)"
      ],
      "execution_count": null,
      "outputs": [
        {
          "output_type": "execute_result",
          "data": {
            "text/plain": [
              "(2054, 128)"
            ]
          },
          "metadata": {
            "tags": []
          },
          "execution_count": 14
        }
      ]
    },
    {
      "cell_type": "code",
      "metadata": {
        "id": "JpZsuRw4hlfF"
      },
      "source": [
        ""
      ],
      "execution_count": null,
      "outputs": []
    },
    {
      "cell_type": "code",
      "metadata": {
        "id": "-DV2H_Pxhkef"
      },
      "source": [
        "# Reference: https://medium.com/spark-nlp/easy-sentence-similarity-with-bert-sentence-embeddings-using-john-snow-labs-nlu-ea078deb6ebf\n",
        "## Calculate dinstance between all pairs of sentences (vectors) in the dataframe\n",
        "# drop any NA\n",
        "predictions.dropna(inplace=True)\n",
        "\n",
        "# put embeddings in matrix\n",
        "e_col = 'sentence_embedding_bert'\n",
        "embed_mat = np.array([x for x in predictions[e_col]])\n",
        "\n",
        "# calculate distance between every embedding pair\n",
        "sim_mat = cosine_similarity(embed_mat, embed_mat)\n",
        "\n",
        "# Quick check\n",
        "sentence_id = 0\n",
        "sim_df3['sim_score'] = sim_mat[sentence_id]"
      ],
      "execution_count": null,
      "outputs": []
    },
    {
      "cell_type": "code",
      "metadata": {
        "colab": {
          "base_uri": "https://localhost:8080/"
        },
        "id": "iR6r9RCwipBY",
        "outputId": "0142e510-2a71-48cc-f65f-e13016c0ce57"
      },
      "source": [
        "sim_mat.shape"
      ],
      "execution_count": null,
      "outputs": [
        {
          "output_type": "execute_result",
          "data": {
            "text/plain": [
              "(2054, 2054)"
            ]
          },
          "metadata": {
            "tags": []
          },
          "execution_count": 25
        }
      ]
    },
    {
      "cell_type": "code",
      "metadata": {
        "colab": {
          "base_uri": "https://localhost:8080/"
        },
        "id": "0s_7cztfky_c",
        "outputId": "54a85fcf-1b5d-44fb-9675-a6a2d5bfb4cd"
      },
      "source": [
        "# maximum value that is not 1\n",
        "temp = np.asarray(sim_mat)\n",
        "temp[sim_mat < 0.999999].max()"
      ],
      "execution_count": null,
      "outputs": [
        {
          "output_type": "execute_result",
          "data": {
            "text/plain": [
              "0.9988249165194869"
            ]
          },
          "metadata": {
            "tags": []
          },
          "execution_count": 26
        }
      ]
    },
    {
      "cell_type": "code",
      "metadata": {
        "id": "XBctrW2WqMIK"
      },
      "source": [
        ""
      ],
      "execution_count": null,
      "outputs": []
    },
    {
      "cell_type": "markdown",
      "metadata": {
        "id": "TaPVa-yvqDw0"
      },
      "source": [
        "**Prepare dataset with all the stopwords removed.**"
      ]
    },
    {
      "cell_type": "code",
      "metadata": {
        "colab": {
          "base_uri": "https://localhost:8080/",
          "height": 418
        },
        "id": "CXK3fUkJp_C_",
        "outputId": "47d35843-9732-4b02-f56f-d04be6b73d21"
      },
      "source": [
        "df_no_stopword = df3.copy()\n",
        "df_no_stopword['c_no_sw'] = df3['context'].str.replace(pat, '')\n",
        "df_no_stopword\n"
      ],
      "execution_count": null,
      "outputs": [
        {
          "output_type": "execute_result",
          "data": {
            "text/html": [
              "<div>\n",
              "<style scoped>\n",
              "    .dataframe tbody tr th:only-of-type {\n",
              "        vertical-align: middle;\n",
              "    }\n",
              "\n",
              "    .dataframe tbody tr th {\n",
              "        vertical-align: top;\n",
              "    }\n",
              "\n",
              "    .dataframe thead th {\n",
              "        text-align: right;\n",
              "    }\n",
              "</style>\n",
              "<table border=\"1\" class=\"dataframe\">\n",
              "  <thead>\n",
              "    <tr style=\"text-align: right;\">\n",
              "      <th></th>\n",
              "      <th>context</th>\n",
              "      <th>counts</th>\n",
              "      <th>c_no_sw</th>\n",
              "    </tr>\n",
              "  </thead>\n",
              "  <tbody>\n",
              "    <tr>\n",
              "      <th>920</th>\n",
              "      <td>Little Jost Van Dyke (colloquially, \"Little Jo...</td>\n",
              "      <td>39</td>\n",
              "      <td>Little Jost Van Dyke (colloquially, \"Little Jo...</td>\n",
              "    </tr>\n",
              "    <tr>\n",
              "      <th>413</th>\n",
              "      <td>Cowie Castle is a ruined fortress in Aberdeens...</td>\n",
              "      <td>38</td>\n",
              "      <td>Cowie Castle   ruined fortress  Aberdeenshire,...</td>\n",
              "    </tr>\n",
              "    <tr>\n",
              "      <th>1105</th>\n",
              "      <td>North East Lincolnshire is a unitary authority...</td>\n",
              "      <td>36</td>\n",
              "      <td>North East Lincolnshire   unitary authority ar...</td>\n",
              "    </tr>\n",
              "    <tr>\n",
              "      <th>1175</th>\n",
              "      <td>Peter Franklin Paul (born September 2, 1948) i...</td>\n",
              "      <td>35</td>\n",
              "      <td>Peter Franklin Paul (born September 2, 1948)  ...</td>\n",
              "    </tr>\n",
              "    <tr>\n",
              "      <th>1999</th>\n",
              "      <td>Westminster, Ellesmere Port is a suburb of the...</td>\n",
              "      <td>32</td>\n",
              "      <td>Westminster, Ellesmere Port   suburb   town  E...</td>\n",
              "    </tr>\n",
              "    <tr>\n",
              "      <th>...</th>\n",
              "      <td>...</td>\n",
              "      <td>...</td>\n",
              "      <td>...</td>\n",
              "    </tr>\n",
              "    <tr>\n",
              "      <th>728</th>\n",
              "      <td>It Takes a Village: And Other Lessons Children...</td>\n",
              "      <td>1</td>\n",
              "      <td>It Takes  Village: And Other Lessons Children ...</td>\n",
              "    </tr>\n",
              "    <tr>\n",
              "      <th>724</th>\n",
              "      <td>Iron Horse Bicycles was a manufacturer of bicy...</td>\n",
              "      <td>1</td>\n",
              "      <td>Iron Horse Bicycles   manufacturer  bicycles, ...</td>\n",
              "    </tr>\n",
              "    <tr>\n",
              "      <th>496</th>\n",
              "      <td>Earl Mountbatten of Burma is a title in the Pe...</td>\n",
              "      <td>1</td>\n",
              "      <td>Earl Mountbatten  Burma   title   Peerage   Un...</td>\n",
              "    </tr>\n",
              "    <tr>\n",
              "      <th>708</th>\n",
              "      <td>In ethology and cognitive ethology, the hawk/g...</td>\n",
              "      <td>1</td>\n",
              "      <td>In ethology  cognitive ethology,  hawk/goose e...</td>\n",
              "    </tr>\n",
              "    <tr>\n",
              "      <th>258</th>\n",
              "      <td>Beryl Markham (née Clutterbuck, 26 October 190...</td>\n",
              "      <td>1</td>\n",
              "      <td>Beryl Markham (née Clutterbuck, 26 October 190...</td>\n",
              "    </tr>\n",
              "  </tbody>\n",
              "</table>\n",
              "<p>2054 rows × 3 columns</p>\n",
              "</div>"
            ],
            "text/plain": [
              "                                                context  ...                                            c_no_sw\n",
              "920   Little Jost Van Dyke (colloquially, \"Little Jo...  ...  Little Jost Van Dyke (colloquially, \"Little Jo...\n",
              "413   Cowie Castle is a ruined fortress in Aberdeens...  ...  Cowie Castle   ruined fortress  Aberdeenshire,...\n",
              "1105  North East Lincolnshire is a unitary authority...  ...  North East Lincolnshire   unitary authority ar...\n",
              "1175  Peter Franklin Paul (born September 2, 1948) i...  ...  Peter Franklin Paul (born September 2, 1948)  ...\n",
              "1999  Westminster, Ellesmere Port is a suburb of the...  ...  Westminster, Ellesmere Port   suburb   town  E...\n",
              "...                                                 ...  ...                                                ...\n",
              "728   It Takes a Village: And Other Lessons Children...  ...  It Takes  Village: And Other Lessons Children ...\n",
              "724   Iron Horse Bicycles was a manufacturer of bicy...  ...  Iron Horse Bicycles   manufacturer  bicycles, ...\n",
              "496   Earl Mountbatten of Burma is a title in the Pe...  ...  Earl Mountbatten  Burma   title   Peerage   Un...\n",
              "708   In ethology and cognitive ethology, the hawk/g...  ...  In ethology  cognitive ethology,  hawk/goose e...\n",
              "258   Beryl Markham (née Clutterbuck, 26 October 190...  ...  Beryl Markham (née Clutterbuck, 26 October 190...\n",
              "\n",
              "[2054 rows x 3 columns]"
            ]
          },
          "metadata": {
            "tags": []
          },
          "execution_count": 14
        }
      ]
    },
    {
      "cell_type": "code",
      "metadata": {
        "colab": {
          "base_uri": "https://localhost:8080/"
        },
        "id": "0CZZbce_qfiS",
        "outputId": "47bfb275-3294-400f-e403-01a6fb1b2fac"
      },
      "source": [
        "print(df_no_stopword.context[920])\n",
        "print(df_no_stopword.c_no_sw[920])"
      ],
      "execution_count": null,
      "outputs": [
        {
          "output_type": "stream",
          "text": [
            "Little Jost Van Dyke (colloquially, \"Little Jost\") is one of the British Virgin Islands. It is a small island on the east end of the island of Jost Van Dyke. Like Jost Van Dyke, it takes its name from the Dutch privateer Joost van Dyk. It is the location of the Diamond Cay National Park, which includes the nesting grounds of wild boobies, terns and pelicans.\n",
            "Little Jost Van Dyke (colloquially, \"Little Jost\")  one   British Virgin Islands. It   small island   east end   island  Jost Van Dyke. Like Jost Van Dyke,  takes  name   Dutch privateer Joost van Dyk. It   location   Diamond Cay National Park,  includes  nesting grounds  wild boobies, terns  pelicans.\n"
          ],
          "name": "stdout"
        }
      ]
    },
    {
      "cell_type": "markdown",
      "metadata": {
        "id": "zo7zhMEcF729"
      },
      "source": [
        "**Preparing the solutin for context**"
      ]
    },
    {
      "cell_type": "code",
      "metadata": {
        "colab": {
          "base_uri": "https://localhost:8080/",
          "height": 524
        },
        "id": "Wfc8Vjlxwrr9",
        "outputId": "a9989c78-8bbd-4480-c7d0-f781cfdbf589"
      },
      "source": [
        "pipe = nlu.load('embed_sentence.bert')\n",
        "pred_sw = pipe.predict(df_no_stopword.c_no_sw, output_level='document')\n",
        "pred_sw"
      ],
      "execution_count": null,
      "outputs": [
        {
          "output_type": "stream",
          "text": [
            "sent_small_bert_L2_128 download started this may take some time.\n",
            "Approximate size to download 16.1 MB\n",
            "[OK!]\n",
            "sentence_detector_dl download started this may take some time.\n",
            "Approximate size to download 354.6 KB\n",
            "[OK!]\n"
          ],
          "name": "stdout"
        },
        {
          "output_type": "execute_result",
          "data": {
            "text/html": [
              "<div>\n",
              "<style scoped>\n",
              "    .dataframe tbody tr th:only-of-type {\n",
              "        vertical-align: middle;\n",
              "    }\n",
              "\n",
              "    .dataframe tbody tr th {\n",
              "        vertical-align: top;\n",
              "    }\n",
              "\n",
              "    .dataframe thead th {\n",
              "        text-align: right;\n",
              "    }\n",
              "</style>\n",
              "<table border=\"1\" class=\"dataframe\">\n",
              "  <thead>\n",
              "    <tr style=\"text-align: right;\">\n",
              "      <th></th>\n",
              "      <th>text</th>\n",
              "      <th>sentence_embedding_bert</th>\n",
              "      <th>document</th>\n",
              "    </tr>\n",
              "  </thead>\n",
              "  <tbody>\n",
              "    <tr>\n",
              "      <th>0</th>\n",
              "      <td>Little Jost Van Dyke (colloquially, \"Little Jo...</td>\n",
              "      <td>[-0.8299615383148193, 0.463348925113678, -0.16...</td>\n",
              "      <td>Little Jost Van Dyke (colloquially, \"Little Jo...</td>\n",
              "    </tr>\n",
              "    <tr>\n",
              "      <th>1</th>\n",
              "      <td>Cowie Castle   ruined fortress  Aberdeenshire,...</td>\n",
              "      <td>[0.16651004552841187, 0.5305085182189941, -0.0...</td>\n",
              "      <td>Cowie Castle ruined fortress Aberdeenshire, Sc...</td>\n",
              "    </tr>\n",
              "    <tr>\n",
              "      <th>2</th>\n",
              "      <td>North East Lincolnshire   unitary authority ar...</td>\n",
              "      <td>[0.23264062404632568, 0.7514533400535583, -0.1...</td>\n",
              "      <td>North East Lincolnshire unitary authority area...</td>\n",
              "    </tr>\n",
              "    <tr>\n",
              "      <th>3</th>\n",
              "      <td>Peter Franklin Paul (born September 2, 1948)  ...</td>\n",
              "      <td>[-0.267457515001297, 0.42559632658958435, -0.3...</td>\n",
              "      <td>Peter Franklin Paul (born September 2, 1948) f...</td>\n",
              "    </tr>\n",
              "    <tr>\n",
              "      <th>4</th>\n",
              "      <td>Westminster, Ellesmere Port   suburb   town  E...</td>\n",
              "      <td>[0.3259137272834778, 0.9180648922920227, -0.00...</td>\n",
              "      <td>Westminster, Ellesmere Port suburb town Ellesm...</td>\n",
              "    </tr>\n",
              "    <tr>\n",
              "      <th>...</th>\n",
              "      <td>...</td>\n",
              "      <td>...</td>\n",
              "      <td>...</td>\n",
              "    </tr>\n",
              "    <tr>\n",
              "      <th>2049</th>\n",
              "      <td>It Takes  Village: And Other Lessons Children ...</td>\n",
              "      <td>[-0.9415388107299805, 0.22589504718780518, -0....</td>\n",
              "      <td>It Takes Village: And Other Lessons Children T...</td>\n",
              "    </tr>\n",
              "    <tr>\n",
              "      <th>2050</th>\n",
              "      <td>Iron Horse Bicycles   manufacturer  bicycles, ...</td>\n",
              "      <td>[0.514559805393219, 0.9795741438865662, 0.1019...</td>\n",
              "      <td>Iron Horse Bicycles manufacturer bicycles, Isl...</td>\n",
              "    </tr>\n",
              "    <tr>\n",
              "      <th>2051</th>\n",
              "      <td>Earl Mountbatten  Burma   title   Peerage   Un...</td>\n",
              "      <td>[-0.4120921790599823, 0.7965482473373413, -0.3...</td>\n",
              "      <td>Earl Mountbatten Burma title Peerage United Ki...</td>\n",
              "    </tr>\n",
              "    <tr>\n",
              "      <th>2052</th>\n",
              "      <td>In ethology  cognitive ethology,  hawk/goose e...</td>\n",
              "      <td>[-0.9539358615875244, 0.031067876145243645, 0....</td>\n",
              "      <td>In ethology cognitive ethology, hawk/goose eff...</td>\n",
              "    </tr>\n",
              "    <tr>\n",
              "      <th>2053</th>\n",
              "      <td>Beryl Markham (née Clutterbuck, 26 October 190...</td>\n",
              "      <td>[-0.22437790036201477, 0.6377455592155457, 0.0...</td>\n",
              "      <td>Beryl Markham (née Clutterbuck, 26 October 190...</td>\n",
              "    </tr>\n",
              "  </tbody>\n",
              "</table>\n",
              "<p>2054 rows × 3 columns</p>\n",
              "</div>"
            ],
            "text/plain": [
              "                                                   text  ...                                           document\n",
              "0     Little Jost Van Dyke (colloquially, \"Little Jo...  ...  Little Jost Van Dyke (colloquially, \"Little Jo...\n",
              "1     Cowie Castle   ruined fortress  Aberdeenshire,...  ...  Cowie Castle ruined fortress Aberdeenshire, Sc...\n",
              "2     North East Lincolnshire   unitary authority ar...  ...  North East Lincolnshire unitary authority area...\n",
              "3     Peter Franklin Paul (born September 2, 1948)  ...  ...  Peter Franklin Paul (born September 2, 1948) f...\n",
              "4     Westminster, Ellesmere Port   suburb   town  E...  ...  Westminster, Ellesmere Port suburb town Ellesm...\n",
              "...                                                 ...  ...                                                ...\n",
              "2049  It Takes  Village: And Other Lessons Children ...  ...  It Takes Village: And Other Lessons Children T...\n",
              "2050  Iron Horse Bicycles   manufacturer  bicycles, ...  ...  Iron Horse Bicycles manufacturer bicycles, Isl...\n",
              "2051  Earl Mountbatten  Burma   title   Peerage   Un...  ...  Earl Mountbatten Burma title Peerage United Ki...\n",
              "2052  In ethology  cognitive ethology,  hawk/goose e...  ...  In ethology cognitive ethology, hawk/goose eff...\n",
              "2053  Beryl Markham (née Clutterbuck, 26 October 190...  ...  Beryl Markham (née Clutterbuck, 26 October 190...\n",
              "\n",
              "[2054 rows x 3 columns]"
            ]
          },
          "metadata": {
            "tags": []
          },
          "execution_count": 16
        }
      ]
    },
    {
      "cell_type": "code",
      "metadata": {
        "id": "6g8y-0KZwro5"
      },
      "source": [
        "## Calculate dinstance between all pairs of sentences in the dataframe\n",
        "# drop any NA\n",
        "pred_sw.dropna(inplace=True)\n",
        "\n",
        "# put embeddings in matrix\n",
        "e_col = 'sentence_embedding_bert'\n",
        "embed_mat = np.array([x for x in pred_sw[e_col]])\n",
        "\n",
        "# calculate distance between every embedding pair\n",
        "sim_mat = cosine_similarity(embed_mat, embed_mat)\n",
        "\n",
        "# Quick check\n",
        "sentence_id = 0\n",
        "sim_df3['sim_score'] = sim_mat[sentence_id]"
      ],
      "execution_count": null,
      "outputs": []
    },
    {
      "cell_type": "code",
      "metadata": {
        "colab": {
          "base_uri": "https://localhost:8080/"
        },
        "id": "4VOncfkp0fr7",
        "outputId": "27810fdc-d0ad-4af7-8075-224b4261bf4d"
      },
      "source": [
        "print(sim_mat.shape)\n",
        "sim_mat"
      ],
      "execution_count": null,
      "outputs": [
        {
          "output_type": "stream",
          "text": [
            "(2054, 2054)\n"
          ],
          "name": "stdout"
        },
        {
          "output_type": "execute_result",
          "data": {
            "text/plain": [
              "array([[1.        , 0.8278551 , 0.6968128 , ..., 0.69370523, 0.81112529,\n",
              "        0.84086617],\n",
              "       [0.8278551 , 1.        , 0.809774  , ..., 0.73461227, 0.72596505,\n",
              "        0.72711688],\n",
              "       [0.6968128 , 0.809774  , 1.        , ..., 0.71193408, 0.57722369,\n",
              "        0.59760518],\n",
              "       ...,\n",
              "       [0.69370523, 0.73461227, 0.71193408, ..., 1.        , 0.64865617,\n",
              "        0.76091552],\n",
              "       [0.81112529, 0.72596505, 0.57722369, ..., 0.64865617, 1.        ,\n",
              "        0.84724298],\n",
              "       [0.84086617, 0.72711688, 0.59760518, ..., 0.76091552, 0.84724298,\n",
              "        1.        ]])"
            ]
          },
          "metadata": {
            "tags": []
          },
          "execution_count": 115
        }
      ]
    },
    {
      "cell_type": "code",
      "metadata": {
        "colab": {
          "base_uri": "https://localhost:8080/"
        },
        "id": "b83URabW0lWy",
        "outputId": "f2d7536f-6041-48cf-93fd-ca9ec3fbbfb7"
      },
      "source": [
        "# Minimum value\n",
        "print(\"Minumum value:\", np.min(sim_mat))\n",
        "\n",
        "# maximum value that is not 1\n",
        "print(\"Maximum value:\", sim_mat[sim_mat < 1].max() )"
      ],
      "execution_count": null,
      "outputs": [
        {
          "output_type": "stream",
          "text": [
            "Minumum value: 0.338726503458714\n",
            "Maximum value: 0.9999999999999999\n"
          ],
          "name": "stdout"
        }
      ]
    },
    {
      "cell_type": "code",
      "metadata": {
        "colab": {
          "base_uri": "https://localhost:8080/"
        },
        "id": "aEhgia6i1Jv2",
        "outputId": "315a0087-0a22-42ae-8739-3617d3247e63"
      },
      "source": [
        "#Steps to extract argmax\n",
        "maxx = sim_mat.copy()\n",
        "np.fill_diagonal(maxx, 0)\n",
        "maxx"
      ],
      "execution_count": null,
      "outputs": [
        {
          "output_type": "execute_result",
          "data": {
            "text/plain": [
              "array([[0.        , 0.8278551 , 0.69681279, ..., 0.69370519, 0.81112527,\n",
              "        0.84086615],\n",
              "       [0.8278551 , 0.        , 0.80977401, ..., 0.73461224, 0.72596503,\n",
              "        0.72711683],\n",
              "       [0.69681279, 0.80977401, 0.        , ..., 0.71193409, 0.57722371,\n",
              "        0.5976052 ],\n",
              "       ...,\n",
              "       [0.69370519, 0.73461224, 0.71193409, ..., 0.        , 0.64865617,\n",
              "        0.76091553],\n",
              "       [0.81112527, 0.72596503, 0.57722371, ..., 0.64865617, 0.        ,\n",
              "        0.84724298],\n",
              "       [0.84086615, 0.72711683, 0.5976052 , ..., 0.76091553, 0.84724298,\n",
              "        0.        ]])"
            ]
          },
          "metadata": {
            "tags": []
          },
          "execution_count": 29
        }
      ]
    },
    {
      "cell_type": "code",
      "metadata": {
        "colab": {
          "base_uri": "https://localhost:8080/",
          "height": 418
        },
        "id": "BC8aF0dq7tSi",
        "outputId": "448cc0ab-3f5e-4590-f3ae-ccf888e60952"
      },
      "source": [
        "results = pd.DataFrame()\n",
        "results['max_sim_factor'] = np.max(maxx, axis=1)\n",
        "results['max_sim_index']  = np.argmax(maxx, axis=1)\n",
        "results['original_index'] = df3.index\n",
        "results.sort_values('max_sim_factor', ascending = False, inplace=True, ignore_index=True)\n",
        "results"
      ],
      "execution_count": null,
      "outputs": [
        {
          "output_type": "execute_result",
          "data": {
            "text/html": [
              "<div>\n",
              "<style scoped>\n",
              "    .dataframe tbody tr th:only-of-type {\n",
              "        vertical-align: middle;\n",
              "    }\n",
              "\n",
              "    .dataframe tbody tr th {\n",
              "        vertical-align: top;\n",
              "    }\n",
              "\n",
              "    .dataframe thead th {\n",
              "        text-align: right;\n",
              "    }\n",
              "</style>\n",
              "<table border=\"1\" class=\"dataframe\">\n",
              "  <thead>\n",
              "    <tr style=\"text-align: right;\">\n",
              "      <th></th>\n",
              "      <th>max_sim_factor</th>\n",
              "      <th>max_sim_index</th>\n",
              "      <th>original_index</th>\n",
              "    </tr>\n",
              "  </thead>\n",
              "  <tbody>\n",
              "    <tr>\n",
              "      <th>0</th>\n",
              "      <td>0.998629</td>\n",
              "      <td>1701</td>\n",
              "      <td>451</td>\n",
              "    </tr>\n",
              "    <tr>\n",
              "      <th>1</th>\n",
              "      <td>0.998629</td>\n",
              "      <td>1222</td>\n",
              "      <td>452</td>\n",
              "    </tr>\n",
              "    <tr>\n",
              "      <th>2</th>\n",
              "      <td>0.998139</td>\n",
              "      <td>1144</td>\n",
              "      <td>1486</td>\n",
              "    </tr>\n",
              "    <tr>\n",
              "      <th>3</th>\n",
              "      <td>0.998139</td>\n",
              "      <td>688</td>\n",
              "      <td>1487</td>\n",
              "    </tr>\n",
              "    <tr>\n",
              "      <th>4</th>\n",
              "      <td>0.997447</td>\n",
              "      <td>704</td>\n",
              "      <td>97</td>\n",
              "    </tr>\n",
              "    <tr>\n",
              "      <th>...</th>\n",
              "      <td>...</td>\n",
              "      <td>...</td>\n",
              "      <td>...</td>\n",
              "    </tr>\n",
              "    <tr>\n",
              "      <th>2049</th>\n",
              "      <td>0.830642</td>\n",
              "      <td>330</td>\n",
              "      <td>1188</td>\n",
              "    </tr>\n",
              "    <tr>\n",
              "      <th>2050</th>\n",
              "      <td>0.829521</td>\n",
              "      <td>371</td>\n",
              "      <td>119</td>\n",
              "    </tr>\n",
              "    <tr>\n",
              "      <th>2051</th>\n",
              "      <td>0.828274</td>\n",
              "      <td>1614</td>\n",
              "      <td>621</td>\n",
              "    </tr>\n",
              "    <tr>\n",
              "      <th>2052</th>\n",
              "      <td>0.825583</td>\n",
              "      <td>1871</td>\n",
              "      <td>123</td>\n",
              "    </tr>\n",
              "    <tr>\n",
              "      <th>2053</th>\n",
              "      <td>0.795403</td>\n",
              "      <td>77</td>\n",
              "      <td>1819</td>\n",
              "    </tr>\n",
              "  </tbody>\n",
              "</table>\n",
              "<p>2054 rows × 3 columns</p>\n",
              "</div>"
            ],
            "text/plain": [
              "      max_sim_factor  max_sim_index  original_index\n",
              "0           0.998629           1701             451\n",
              "1           0.998629           1222             452\n",
              "2           0.998139           1144            1486\n",
              "3           0.998139            688            1487\n",
              "4           0.997447            704              97\n",
              "...              ...            ...             ...\n",
              "2049        0.830642            330            1188\n",
              "2050        0.829521            371             119\n",
              "2051        0.828274           1614             621\n",
              "2052        0.825583           1871             123\n",
              "2053        0.795403             77            1819\n",
              "\n",
              "[2054 rows x 3 columns]"
            ]
          },
          "metadata": {
            "tags": []
          },
          "execution_count": 30
        }
      ]
    },
    {
      "cell_type": "code",
      "metadata": {
        "colab": {
          "base_uri": "https://localhost:8080/"
        },
        "id": "0o1Xys0G4HIs",
        "outputId": "439d1252-2ae5-4b59-914f-7ba26dd3d14f"
      },
      "source": [
        "print(df3.context[451])\n",
        "print(df_no_stopword.context[1701])"
      ],
      "execution_count": null,
      "outputs": [
        {
          "output_type": "stream",
          "text": [
            "Dean Carroll Jones (January 25, 1931 – September 1, 2015) was an American actor best known for his roles as Agent Zeke Kelso in \"That Darn Cat!\" (1965), Jim Douglas in \"The Love Bug\" (1968), Albert Dooley in \"The Million Dollar Duck\" (1971; for which he received a Golden Globe nomination) and Dr. Herman Varnick in \"Beethoven\" (1992).\n",
            "The Jargon Society is an independent press founded by the American poet Jonathan Williams. Jargon has published seminal works of the American literary avant-garde, including books by Charles Olson, Louis Zukofsky, Paul Metcalf, James Broughton, and Williams himself, as well as \"sui generis\" books of folk art such as \"White Trash Cooking\".\n"
          ],
          "name": "stdout"
        }
      ]
    },
    {
      "cell_type": "code",
      "metadata": {
        "colab": {
          "base_uri": "https://localhost:8080/"
        },
        "id": "MWcgGz8O7Ymk",
        "outputId": "8ca8479c-ad1f-4041-e2b7-a9ef12dc3578"
      },
      "source": [
        "print(df3.context[97])\n",
        "print(df_no_stopword.context[704])"
      ],
      "execution_count": null,
      "outputs": [
        {
          "output_type": "stream",
          "text": [
            "4th (County Fermanagh) Battalion, Ulster Defence Regiment (4 UDR) was formed in 1970 as part of the 7 original battalions specified in The Ulster Defence Regiment Act 1969, which received Royal Assent on 18 December 1969 and was brought into force on 1 January 1970. It was amalgamated with the 6th Battalion, Ulster Defence Regiment in 1992 to form the 4th/6th Battalion, Ulster Defence Regiment.\n",
            "In British politics, the shadow foreign secretary is a position within the opposition's shadow cabinet that deals mainly with issues surrounding the Foreign Office. If elected, the person designated as shadow foreign secretary may be slated to serve as the new Foreign Secretary.\n"
          ],
          "name": "stdout"
        }
      ]
    },
    {
      "cell_type": "code",
      "metadata": {
        "id": "_mSMM9XE7YkE"
      },
      "source": [
        ""
      ],
      "execution_count": null,
      "outputs": []
    },
    {
      "cell_type": "markdown",
      "metadata": {
        "id": "iiPA3BTiFuT7"
      },
      "source": [
        "**Preparing the solution for hypothesis**"
      ]
    },
    {
      "cell_type": "code",
      "metadata": {
        "id": "np9VrfHx5obu"
      },
      "source": [
        "#first.hypothesis\n",
        "pipe = nlu.load('embed_sentence.bert')\n",
        "pred = pipe.predict(first.h_no_sw, output_level='document')\n",
        "pred"
      ],
      "execution_count": null,
      "outputs": []
    },
    {
      "cell_type": "code",
      "metadata": {
        "id": "XqXqw8H46eol"
      },
      "source": [
        "## Calculate dinstance between all pairs of sentences in the dataframe\n",
        "# drop any NA\n",
        "pred.dropna(inplace=True)\n",
        "\n",
        "# put embeddings in matrix\n",
        "e_col = 'sentence_embedding_bert'\n",
        "embed_mat = np.array([x for x in pred[e_col]])\n",
        "\n",
        "# calculate distance between every embedding pair\n",
        "sim_mat = cosine_similarity(embed_mat, embed_mat)\n",
        "sim_mat"
      ],
      "execution_count": null,
      "outputs": []
    },
    {
      "cell_type": "code",
      "metadata": {
        "id": "D1FTvU978G_v"
      },
      "source": [
        "#Steps to extract argmax\n",
        "maxx = sim_mat.copy()\n",
        "np.fill_diagonal(maxx, 0)\n",
        "maxx = np.tril(maxx, k=0)\n",
        "maxx"
      ],
      "execution_count": null,
      "outputs": []
    },
    {
      "cell_type": "code",
      "metadata": {
        "colab": {
          "base_uri": "https://localhost:8080/",
          "height": 512
        },
        "id": "j_YE0dOe8Ho6",
        "outputId": "6a4e8cae-40f1-4d28-cd66-d23a2625e435"
      },
      "source": [
        "res = pd.DataFrame()\n",
        "res['max_sim_factor'] = np.max(maxx, axis=1)\n",
        "res['max_sim_index']  = np.argmax(maxx, axis=1)\n",
        "res['original_index'] = df.loc[df['context'] == context].index\n",
        "#res.sort_values('max_sim_factor', ascending = False, inplace=True, ignore_index=True)\n",
        "res"
      ],
      "execution_count": null,
      "outputs": [
        {
          "output_type": "execute_result",
          "data": {
            "text/html": [
              "<div>\n",
              "<style scoped>\n",
              "    .dataframe tbody tr th:only-of-type {\n",
              "        vertical-align: middle;\n",
              "    }\n",
              "\n",
              "    .dataframe tbody tr th {\n",
              "        vertical-align: top;\n",
              "    }\n",
              "\n",
              "    .dataframe thead th {\n",
              "        text-align: right;\n",
              "    }\n",
              "</style>\n",
              "<table border=\"1\" class=\"dataframe\">\n",
              "  <thead>\n",
              "    <tr style=\"text-align: right;\">\n",
              "      <th></th>\n",
              "      <th>max_sim_factor</th>\n",
              "      <th>max_sim_index</th>\n",
              "      <th>original_index</th>\n",
              "    </tr>\n",
              "  </thead>\n",
              "  <tbody>\n",
              "    <tr>\n",
              "      <th>0</th>\n",
              "      <td>0.000000</td>\n",
              "      <td>0</td>\n",
              "      <td>7781</td>\n",
              "    </tr>\n",
              "    <tr>\n",
              "      <th>1</th>\n",
              "      <td>0.826280</td>\n",
              "      <td>0</td>\n",
              "      <td>7797</td>\n",
              "    </tr>\n",
              "    <tr>\n",
              "      <th>2</th>\n",
              "      <td>0.889851</td>\n",
              "      <td>0</td>\n",
              "      <td>8858</td>\n",
              "    </tr>\n",
              "    <tr>\n",
              "      <th>3</th>\n",
              "      <td>0.922437</td>\n",
              "      <td>2</td>\n",
              "      <td>8864</td>\n",
              "    </tr>\n",
              "    <tr>\n",
              "      <th>4</th>\n",
              "      <td>0.845911</td>\n",
              "      <td>3</td>\n",
              "      <td>8867</td>\n",
              "    </tr>\n",
              "    <tr>\n",
              "      <th>5</th>\n",
              "      <td>0.881861</td>\n",
              "      <td>2</td>\n",
              "      <td>8872</td>\n",
              "    </tr>\n",
              "    <tr>\n",
              "      <th>6</th>\n",
              "      <td>0.849150</td>\n",
              "      <td>4</td>\n",
              "      <td>8874</td>\n",
              "    </tr>\n",
              "    <tr>\n",
              "      <th>7</th>\n",
              "      <td>0.697794</td>\n",
              "      <td>3</td>\n",
              "      <td>9685</td>\n",
              "    </tr>\n",
              "    <tr>\n",
              "      <th>8</th>\n",
              "      <td>0.868882</td>\n",
              "      <td>0</td>\n",
              "      <td>9696</td>\n",
              "    </tr>\n",
              "    <tr>\n",
              "      <th>9</th>\n",
              "      <td>0.827134</td>\n",
              "      <td>0</td>\n",
              "      <td>9707</td>\n",
              "    </tr>\n",
              "    <tr>\n",
              "      <th>10</th>\n",
              "      <td>0.937299</td>\n",
              "      <td>5</td>\n",
              "      <td>9717</td>\n",
              "    </tr>\n",
              "    <tr>\n",
              "      <th>11</th>\n",
              "      <td>0.852359</td>\n",
              "      <td>5</td>\n",
              "      <td>9722</td>\n",
              "    </tr>\n",
              "    <tr>\n",
              "      <th>12</th>\n",
              "      <td>0.918577</td>\n",
              "      <td>2</td>\n",
              "      <td>10033</td>\n",
              "    </tr>\n",
              "    <tr>\n",
              "      <th>13</th>\n",
              "      <td>0.888275</td>\n",
              "      <td>9</td>\n",
              "      <td>16121</td>\n",
              "    </tr>\n",
              "    <tr>\n",
              "      <th>14</th>\n",
              "      <td>0.801400</td>\n",
              "      <td>8</td>\n",
              "      <td>16742</td>\n",
              "    </tr>\n",
              "  </tbody>\n",
              "</table>\n",
              "</div>"
            ],
            "text/plain": [
              "    max_sim_factor  max_sim_index  original_index\n",
              "0         0.000000              0            7781\n",
              "1         0.826280              0            7797\n",
              "2         0.889851              0            8858\n",
              "3         0.922437              2            8864\n",
              "4         0.845911              3            8867\n",
              "5         0.881861              2            8872\n",
              "6         0.849150              4            8874\n",
              "7         0.697794              3            9685\n",
              "8         0.868882              0            9696\n",
              "9         0.827134              0            9707\n",
              "10        0.937299              5            9717\n",
              "11        0.852359              5            9722\n",
              "12        0.918577              2           10033\n",
              "13        0.888275              9           16121\n",
              "14        0.801400              8           16742"
            ]
          },
          "metadata": {
            "tags": []
          },
          "execution_count": 117
        }
      ]
    },
    {
      "cell_type": "code",
      "metadata": {
        "colab": {
          "base_uri": "https://localhost:8080/",
          "height": 765
        },
        "id": "8aRN1jNs8gmr",
        "outputId": "9d741489-0046-45ab-c996-11e0b59362ab"
      },
      "source": [
        "first['max_sim_factor'] = np.max(maxx, axis=1)\n",
        "first['max_sim_index']  = np.argmax(maxx, axis=1)\n",
        "first"
      ],
      "execution_count": null,
      "outputs": [
        {
          "output_type": "execute_result",
          "data": {
            "text/html": [
              "<div>\n",
              "<style scoped>\n",
              "    .dataframe tbody tr th:only-of-type {\n",
              "        vertical-align: middle;\n",
              "    }\n",
              "\n",
              "    .dataframe tbody tr th {\n",
              "        vertical-align: top;\n",
              "    }\n",
              "\n",
              "    .dataframe thead th {\n",
              "        text-align: right;\n",
              "    }\n",
              "</style>\n",
              "<table border=\"1\" class=\"dataframe\">\n",
              "  <thead>\n",
              "    <tr style=\"text-align: right;\">\n",
              "      <th></th>\n",
              "      <th>context</th>\n",
              "      <th>hypothesis</th>\n",
              "      <th>h_no_sw</th>\n",
              "      <th>max_sim_factor</th>\n",
              "      <th>max_sim_index</th>\n",
              "    </tr>\n",
              "  </thead>\n",
              "  <tbody>\n",
              "    <tr>\n",
              "      <th>7781</th>\n",
              "      <td>\"All My Life\" is a song by the American band F...</td>\n",
              "      <td>Foo Fighters have never had a track chart outs...</td>\n",
              "      <td>Foo Fighters  never   track chart outside  hom...</td>\n",
              "      <td>0.000000</td>\n",
              "      <td>0</td>\n",
              "    </tr>\n",
              "    <tr>\n",
              "      <th>7797</th>\n",
              "      <td>\"All My Life\" is a song by the American band F...</td>\n",
              "      <td>Foo Fighters have unimpressive record sales</td>\n",
              "      <td>Foo Fighters  unimpressive record sales</td>\n",
              "      <td>0.826280</td>\n",
              "      <td>0</td>\n",
              "    </tr>\n",
              "    <tr>\n",
              "      <th>8858</th>\n",
              "      <td>\"All My Life\" is a song by the American band F...</td>\n",
              "      <td>All My Life is the most popular song by the Fo...</td>\n",
              "      <td>All My Life    popular song   Foo Fighters.</td>\n",
              "      <td>0.889851</td>\n",
              "      <td>0</td>\n",
              "    </tr>\n",
              "    <tr>\n",
              "      <th>8864</th>\n",
              "      <td>\"All My Life\" is a song by the American band F...</td>\n",
              "      <td>The Foo Fighters made more than a million doll...</td>\n",
              "      <td>The Foo Fighters made    million dollars   son...</td>\n",
              "      <td>0.922437</td>\n",
              "      <td>2</td>\n",
              "    </tr>\n",
              "    <tr>\n",
              "      <th>8867</th>\n",
              "      <td>\"All My Life\" is a song by the American band F...</td>\n",
              "      <td>All My Life sold more than one million copies.</td>\n",
              "      <td>All My Life sold   one million copies.</td>\n",
              "      <td>0.845911</td>\n",
              "      <td>3</td>\n",
              "    </tr>\n",
              "    <tr>\n",
              "      <th>8872</th>\n",
              "      <td>\"All My Life\" is a song by the American band F...</td>\n",
              "      <td>All My Life was the most popular song on the a...</td>\n",
              "      <td>All My Life    popular song   album One  One.</td>\n",
              "      <td>0.881861</td>\n",
              "      <td>2</td>\n",
              "    </tr>\n",
              "    <tr>\n",
              "      <th>8874</th>\n",
              "      <td>\"All My Life\" is a song by the American band F...</td>\n",
              "      <td>All My Life was released in 1990.</td>\n",
              "      <td>All My Life  released  1990.</td>\n",
              "      <td>0.849150</td>\n",
              "      <td>4</td>\n",
              "    </tr>\n",
              "    <tr>\n",
              "      <th>9685</th>\n",
              "      <td>\"All My Life\" is a song by the American band F...</td>\n",
              "      <td>This particular achievement wasn't possible if...</td>\n",
              "      <td>This particular achievement wasn' possible  on...</td>\n",
              "      <td>0.697794</td>\n",
              "      <td>3</td>\n",
              "    </tr>\n",
              "    <tr>\n",
              "      <th>9696</th>\n",
              "      <td>\"All My Life\" is a song by the American band F...</td>\n",
              "      <td>Other than the Us, This single performed it be...</td>\n",
              "      <td>Other   Us, This single performed  best   UK</td>\n",
              "      <td>0.868882</td>\n",
              "      <td>0</td>\n",
              "    </tr>\n",
              "    <tr>\n",
              "      <th>9707</th>\n",
              "      <td>\"All My Life\" is a song by the American band F...</td>\n",
              "      <td>ten weeks is the maximum you can be at the top...</td>\n",
              "      <td>ten weeks   maximum      top  hot modern rock ...</td>\n",
              "      <td>0.827134</td>\n",
              "      <td>0</td>\n",
              "    </tr>\n",
              "    <tr>\n",
              "      <th>9717</th>\n",
              "      <td>\"All My Life\" is a song by the American band F...</td>\n",
              "      <td>All my life was the only single in the album o...</td>\n",
              "      <td>All  life    single   album one  one</td>\n",
              "      <td>0.937299</td>\n",
              "      <td>5</td>\n",
              "    </tr>\n",
              "    <tr>\n",
              "      <th>9722</th>\n",
              "      <td>\"All My Life\" is a song by the American band F...</td>\n",
              "      <td>This single has a lot of Nirvana's influence</td>\n",
              "      <td>This single   lot  Nirvana' influence</td>\n",
              "      <td>0.852359</td>\n",
              "      <td>5</td>\n",
              "    </tr>\n",
              "    <tr>\n",
              "      <th>10033</th>\n",
              "      <td>\"All My Life\" is a song by the American band F...</td>\n",
              "      <td>\"All My Life\" was played on the radio more fre...</td>\n",
              "      <td>\"All My Life\"  played   radio  frequently    F...</td>\n",
              "      <td>0.918577</td>\n",
              "      <td>2</td>\n",
              "    </tr>\n",
              "    <tr>\n",
              "      <th>16121</th>\n",
              "      <td>\"All My Life\" is a song by the American band F...</td>\n",
              "      <td>\"All My Life\" was a top 5 hit on the Danish cl...</td>\n",
              "      <td>\"All My Life\"   top 5 hit   Danish classic roc...</td>\n",
              "      <td>0.888275</td>\n",
              "      <td>9</td>\n",
              "    </tr>\n",
              "    <tr>\n",
              "      <th>16742</th>\n",
              "      <td>\"All My Life\" is a song by the American band F...</td>\n",
              "      <td>One by One won a Grammy Award for Best Mainstr...</td>\n",
              "      <td>One  One won  Grammy Award  Best Mainstream Ro...</td>\n",
              "      <td>0.801400</td>\n",
              "      <td>8</td>\n",
              "    </tr>\n",
              "  </tbody>\n",
              "</table>\n",
              "</div>"
            ],
            "text/plain": [
              "                                                 context  ... max_sim_index\n",
              "7781   \"All My Life\" is a song by the American band F...  ...             0\n",
              "7797   \"All My Life\" is a song by the American band F...  ...             0\n",
              "8858   \"All My Life\" is a song by the American band F...  ...             0\n",
              "8864   \"All My Life\" is a song by the American band F...  ...             2\n",
              "8867   \"All My Life\" is a song by the American band F...  ...             3\n",
              "8872   \"All My Life\" is a song by the American band F...  ...             2\n",
              "8874   \"All My Life\" is a song by the American band F...  ...             4\n",
              "9685   \"All My Life\" is a song by the American band F...  ...             3\n",
              "9696   \"All My Life\" is a song by the American band F...  ...             0\n",
              "9707   \"All My Life\" is a song by the American band F...  ...             0\n",
              "9717   \"All My Life\" is a song by the American band F...  ...             5\n",
              "9722   \"All My Life\" is a song by the American band F...  ...             5\n",
              "10033  \"All My Life\" is a song by the American band F...  ...             2\n",
              "16121  \"All My Life\" is a song by the American band F...  ...             9\n",
              "16742  \"All My Life\" is a song by the American band F...  ...             8\n",
              "\n",
              "[15 rows x 5 columns]"
            ]
          },
          "metadata": {
            "tags": []
          },
          "execution_count": 124
        }
      ]
    },
    {
      "cell_type": "code",
      "metadata": {
        "colab": {
          "base_uri": "https://localhost:8080/",
          "height": 765
        },
        "id": "dA7gH9V8-4Kc",
        "outputId": "7c08227f-f725-446c-a2e1-08affd7b4c48"
      },
      "source": [
        "# If the max_sim_factor >= 0.98 then mark for removal. \n",
        "# If the max_sim_factor >= 0.98 and the corresponding max_sim_index is already marked for removal then don't mark for removal\n",
        "# Work in progress\n",
        "valdt = first.copy()\n",
        "valdt['remove'] = valdt.max_sim_factor >= 0.84\n",
        "\n",
        "check = []\n",
        "for i in range(valdt.shape[0]):\n",
        "  a, b = valdt.iloc[i].remove  ,  valdt.iloc[valdt.iloc[i].max_sim_index].remove\n",
        "  if a:\n",
        "    if b:\n",
        "      check.append(False)\n",
        "    else:\n",
        "      check.append(True)\n",
        "  else:\n",
        "    check.append(False)\n",
        "\n",
        "valdt['remove2'] = check\n",
        "\n",
        "valdt"
      ],
      "execution_count": null,
      "outputs": [
        {
          "output_type": "execute_result",
          "data": {
            "text/html": [
              "<div>\n",
              "<style scoped>\n",
              "    .dataframe tbody tr th:only-of-type {\n",
              "        vertical-align: middle;\n",
              "    }\n",
              "\n",
              "    .dataframe tbody tr th {\n",
              "        vertical-align: top;\n",
              "    }\n",
              "\n",
              "    .dataframe thead th {\n",
              "        text-align: right;\n",
              "    }\n",
              "</style>\n",
              "<table border=\"1\" class=\"dataframe\">\n",
              "  <thead>\n",
              "    <tr style=\"text-align: right;\">\n",
              "      <th></th>\n",
              "      <th>context</th>\n",
              "      <th>hypothesis</th>\n",
              "      <th>h_no_sw</th>\n",
              "      <th>max_sim_factor</th>\n",
              "      <th>max_sim_index</th>\n",
              "      <th>remove</th>\n",
              "      <th>remove2</th>\n",
              "    </tr>\n",
              "  </thead>\n",
              "  <tbody>\n",
              "    <tr>\n",
              "      <th>7781</th>\n",
              "      <td>\"All My Life\" is a song by the American band F...</td>\n",
              "      <td>Foo Fighters have never had a track chart outs...</td>\n",
              "      <td>Foo Fighters  never   track chart outside  hom...</td>\n",
              "      <td>0.000000</td>\n",
              "      <td>0</td>\n",
              "      <td>False</td>\n",
              "      <td>False</td>\n",
              "    </tr>\n",
              "    <tr>\n",
              "      <th>7797</th>\n",
              "      <td>\"All My Life\" is a song by the American band F...</td>\n",
              "      <td>Foo Fighters have unimpressive record sales</td>\n",
              "      <td>Foo Fighters  unimpressive record sales</td>\n",
              "      <td>0.826280</td>\n",
              "      <td>0</td>\n",
              "      <td>False</td>\n",
              "      <td>False</td>\n",
              "    </tr>\n",
              "    <tr>\n",
              "      <th>8858</th>\n",
              "      <td>\"All My Life\" is a song by the American band F...</td>\n",
              "      <td>All My Life is the most popular song by the Fo...</td>\n",
              "      <td>All My Life    popular song   Foo Fighters.</td>\n",
              "      <td>0.889851</td>\n",
              "      <td>0</td>\n",
              "      <td>True</td>\n",
              "      <td>True</td>\n",
              "    </tr>\n",
              "    <tr>\n",
              "      <th>8864</th>\n",
              "      <td>\"All My Life\" is a song by the American band F...</td>\n",
              "      <td>The Foo Fighters made more than a million doll...</td>\n",
              "      <td>The Foo Fighters made    million dollars   son...</td>\n",
              "      <td>0.922437</td>\n",
              "      <td>2</td>\n",
              "      <td>True</td>\n",
              "      <td>False</td>\n",
              "    </tr>\n",
              "    <tr>\n",
              "      <th>8867</th>\n",
              "      <td>\"All My Life\" is a song by the American band F...</td>\n",
              "      <td>All My Life sold more than one million copies.</td>\n",
              "      <td>All My Life sold   one million copies.</td>\n",
              "      <td>0.845911</td>\n",
              "      <td>3</td>\n",
              "      <td>True</td>\n",
              "      <td>False</td>\n",
              "    </tr>\n",
              "    <tr>\n",
              "      <th>8872</th>\n",
              "      <td>\"All My Life\" is a song by the American band F...</td>\n",
              "      <td>All My Life was the most popular song on the a...</td>\n",
              "      <td>All My Life    popular song   album One  One.</td>\n",
              "      <td>0.881861</td>\n",
              "      <td>2</td>\n",
              "      <td>True</td>\n",
              "      <td>False</td>\n",
              "    </tr>\n",
              "    <tr>\n",
              "      <th>8874</th>\n",
              "      <td>\"All My Life\" is a song by the American band F...</td>\n",
              "      <td>All My Life was released in 1990.</td>\n",
              "      <td>All My Life  released  1990.</td>\n",
              "      <td>0.849150</td>\n",
              "      <td>4</td>\n",
              "      <td>True</td>\n",
              "      <td>False</td>\n",
              "    </tr>\n",
              "    <tr>\n",
              "      <th>9685</th>\n",
              "      <td>\"All My Life\" is a song by the American band F...</td>\n",
              "      <td>This particular achievement wasn't possible if...</td>\n",
              "      <td>This particular achievement wasn' possible  on...</td>\n",
              "      <td>0.697794</td>\n",
              "      <td>3</td>\n",
              "      <td>False</td>\n",
              "      <td>False</td>\n",
              "    </tr>\n",
              "    <tr>\n",
              "      <th>9696</th>\n",
              "      <td>\"All My Life\" is a song by the American band F...</td>\n",
              "      <td>Other than the Us, This single performed it be...</td>\n",
              "      <td>Other   Us, This single performed  best   UK</td>\n",
              "      <td>0.868882</td>\n",
              "      <td>0</td>\n",
              "      <td>True</td>\n",
              "      <td>True</td>\n",
              "    </tr>\n",
              "    <tr>\n",
              "      <th>9707</th>\n",
              "      <td>\"All My Life\" is a song by the American band F...</td>\n",
              "      <td>ten weeks is the maximum you can be at the top...</td>\n",
              "      <td>ten weeks   maximum      top  hot modern rock ...</td>\n",
              "      <td>0.827134</td>\n",
              "      <td>0</td>\n",
              "      <td>False</td>\n",
              "      <td>False</td>\n",
              "    </tr>\n",
              "    <tr>\n",
              "      <th>9717</th>\n",
              "      <td>\"All My Life\" is a song by the American band F...</td>\n",
              "      <td>All my life was the only single in the album o...</td>\n",
              "      <td>All  life    single   album one  one</td>\n",
              "      <td>0.937299</td>\n",
              "      <td>5</td>\n",
              "      <td>True</td>\n",
              "      <td>False</td>\n",
              "    </tr>\n",
              "    <tr>\n",
              "      <th>9722</th>\n",
              "      <td>\"All My Life\" is a song by the American band F...</td>\n",
              "      <td>This single has a lot of Nirvana's influence</td>\n",
              "      <td>This single   lot  Nirvana' influence</td>\n",
              "      <td>0.852359</td>\n",
              "      <td>5</td>\n",
              "      <td>True</td>\n",
              "      <td>False</td>\n",
              "    </tr>\n",
              "    <tr>\n",
              "      <th>10033</th>\n",
              "      <td>\"All My Life\" is a song by the American band F...</td>\n",
              "      <td>\"All My Life\" was played on the radio more fre...</td>\n",
              "      <td>\"All My Life\"  played   radio  frequently    F...</td>\n",
              "      <td>0.918577</td>\n",
              "      <td>2</td>\n",
              "      <td>True</td>\n",
              "      <td>False</td>\n",
              "    </tr>\n",
              "    <tr>\n",
              "      <th>16121</th>\n",
              "      <td>\"All My Life\" is a song by the American band F...</td>\n",
              "      <td>\"All My Life\" was a top 5 hit on the Danish cl...</td>\n",
              "      <td>\"All My Life\"   top 5 hit   Danish classic roc...</td>\n",
              "      <td>0.888275</td>\n",
              "      <td>9</td>\n",
              "      <td>True</td>\n",
              "      <td>True</td>\n",
              "    </tr>\n",
              "    <tr>\n",
              "      <th>16742</th>\n",
              "      <td>\"All My Life\" is a song by the American band F...</td>\n",
              "      <td>One by One won a Grammy Award for Best Mainstr...</td>\n",
              "      <td>One  One won  Grammy Award  Best Mainstream Ro...</td>\n",
              "      <td>0.801400</td>\n",
              "      <td>8</td>\n",
              "      <td>False</td>\n",
              "      <td>False</td>\n",
              "    </tr>\n",
              "  </tbody>\n",
              "</table>\n",
              "</div>"
            ],
            "text/plain": [
              "                                                 context  ... remove2\n",
              "7781   \"All My Life\" is a song by the American band F...  ...   False\n",
              "7797   \"All My Life\" is a song by the American band F...  ...   False\n",
              "8858   \"All My Life\" is a song by the American band F...  ...    True\n",
              "8864   \"All My Life\" is a song by the American band F...  ...   False\n",
              "8867   \"All My Life\" is a song by the American band F...  ...   False\n",
              "8872   \"All My Life\" is a song by the American band F...  ...   False\n",
              "8874   \"All My Life\" is a song by the American band F...  ...   False\n",
              "9685   \"All My Life\" is a song by the American band F...  ...   False\n",
              "9696   \"All My Life\" is a song by the American band F...  ...    True\n",
              "9707   \"All My Life\" is a song by the American band F...  ...   False\n",
              "9717   \"All My Life\" is a song by the American band F...  ...   False\n",
              "9722   \"All My Life\" is a song by the American band F...  ...   False\n",
              "10033  \"All My Life\" is a song by the American band F...  ...   False\n",
              "16121  \"All My Life\" is a song by the American band F...  ...    True\n",
              "16742  \"All My Life\" is a song by the American band F...  ...   False\n",
              "\n",
              "[15 rows x 7 columns]"
            ]
          },
          "metadata": {
            "tags": []
          },
          "execution_count": 191
        }
      ]
    },
    {
      "cell_type": "code",
      "metadata": {
        "colab": {
          "base_uri": "https://localhost:8080/"
        },
        "id": "WMEvK3hBgwkj",
        "outputId": "3c38a239-8c0c-438f-ad98-8038e54e5c66"
      },
      "source": [
        "for i in range(valdt.shape[0]):\n",
        "  a, b = valdt.iloc[i].remove  ,  valdt.iloc[valdt.iloc[i].max_sim_index].remove\n",
        "  print(a, b, a or b)\n",
        "  #print(valdt.iloc[i].remove, valdt.iloc[valdt.iloc[i].max_sim_index].remove)"
      ],
      "execution_count": null,
      "outputs": [
        {
          "output_type": "stream",
          "text": [
            "False False False\n",
            "False False False\n",
            "True False True\n",
            "True True True\n",
            "True True True\n",
            "True True True\n",
            "True True True\n",
            "False True True\n",
            "True False True\n",
            "False False False\n",
            "True True True\n",
            "True True True\n",
            "True True True\n",
            "True False True\n",
            "False True True\n"
          ],
          "name": "stdout"
        }
      ]
    },
    {
      "cell_type": "code",
      "metadata": {
        "id": "rw9IqEK6hO1R"
      },
      "source": [
        "df6\n",
        "#df5\n",
        "#df5.loc[940]\n",
        "#df5.iloc[1]"
      ],
      "execution_count": null,
      "outputs": []
    },
    {
      "cell_type": "code",
      "metadata": {
        "id": "xSVV6fZwYgVD"
      },
      "source": [
        "# Iterate through the distinct contexts\n",
        "for i in range(df.shape[0]):\n",
        "  print(df.loc[i].context)\n",
        "  if i >= 10:\n",
        "    break"
      ],
      "execution_count": null,
      "outputs": []
    },
    {
      "cell_type": "code",
      "metadata": {
        "id": "LEUiJ6nf9pkB"
      },
      "source": [
        ""
      ],
      "execution_count": null,
      "outputs": []
    },
    {
      "cell_type": "code",
      "metadata": {
        "id": "LFM97grk9pZG"
      },
      "source": [
        ""
      ],
      "execution_count": null,
      "outputs": []
    },
    {
      "cell_type": "markdown",
      "metadata": {
        "id": "_lSnPS4m9jHp"
      },
      "source": [
        "**Final Solution**"
      ]
    },
    {
      "cell_type": "code",
      "metadata": {
        "id": "JuBdqLIr4WOJ"
      },
      "source": [
        "from sklearn.metrics.pairwise import cosine_similarity"
      ],
      "execution_count": null,
      "outputs": []
    },
    {
      "cell_type": "code",
      "metadata": {
        "id": "7Uv-b5P-7Yhf"
      },
      "source": [
        "def get_hypothesis(in_context):\n",
        "  \n",
        "  process = pd.DataFrame()\n",
        "  process = df.loc[df['context'] == in_context][[\"uid\", \"context\", \"hypothesis\"]]\n",
        "  \n",
        "  # Remove stop words from hypothesis.\n",
        "  pat = r'\\b(?:{})\\b'.format('|'.join(stop_words))\n",
        "  process['h_no_sw'] = process['hypothesis'].str.replace(pat, '')\n",
        "\n",
        "  return process\n",
        "\n",
        "\n",
        "def run_bert(in_hypothesis):\n",
        "  pipe = nlu.load('embed_sentence.bert')\n",
        "  pred = pipe.predict(in_hypothesis, output_level='document')\n",
        "\n",
        "  return pred\n",
        "\n",
        "\n",
        "def calculate_similarity(the_data): ## Calculate cosine dinstance between all pairs of sentences in the dataframe\n",
        "  pred = the_data\n",
        "  # drop any NA\n",
        "  pred.dropna(inplace=True)\n",
        "\n",
        "  # put embeddings in matrix\n",
        "  e_col = 'sentence_embedding_bert'\n",
        "  embed_mat = np.array([x for x in pred[e_col]])\n",
        "\n",
        "  # calculate distance between every embedding pair\n",
        "  sim_mat = cosine_similarity(embed_mat, embed_mat)\n",
        "\n",
        "  #Steps to extract argmax\n",
        "  maxx = sim_mat.copy()\n",
        "  np.fill_diagonal(maxx, 0)\n",
        "  maxx = np.tril(maxx, k=0)\n",
        "\n",
        "  return maxx\n",
        "\n",
        "\n",
        "def remove_duplicate(data_frame, similarity_factor = 0.98): # define similarity factor. e.g. a hypothesis that has factor >=0.98 will be removed.\n",
        "  \n",
        "  # Step 1: If the max_sim_factor >= 0.98 then mark for removal. \n",
        "  # Step 2: If the max_sim_factor >= 0.98 and the corresponding max_sim_index is already marked for removal then don't mark for removal\n",
        "  # Step 3: Delete the records marked for deletion in step 2\n",
        "  valdt = data_frame\n",
        "  valdt['remove'] = valdt.max_sim_factor >= similarity_factor\n",
        "\n",
        "  check = []\n",
        "  for i in range(valdt.shape[0]):\n",
        "    a, b = valdt.iloc[i].remove  ,  valdt.iloc[valdt.iloc[i].max_sim_index].remove\n",
        "    if a:\n",
        "      if b:\n",
        "        check.append(False)\n",
        "      else:\n",
        "        check.append(True)\n",
        "    else:\n",
        "      check.append(False)\n",
        "\n",
        "  valdt['remove2'] = check\n",
        "\n",
        "  return valdt\n",
        "\n"
      ],
      "execution_count": null,
      "outputs": []
    },
    {
      "cell_type": "code",
      "metadata": {
        "id": "os_eAc39Ga9H"
      },
      "source": [
        "#context = df2.loc[4].context\n",
        "#df.loc[df['context'] == context][[\"context\", \"hypothesis\"]]\n",
        "df4 = df3[df3.counts >= 2] # this dataset will be processed for deduping # (1974, 2) #(2655, 2)\n",
        "df5 = df3[df3.counts == 1]\n",
        "\n",
        "df6 = df[df.context.isin(df5.context.values)] # this is the final dataframe where the deduped records are stored # (80, 9) #(31, 2)\n",
        "df6.reset_index(drop=True, inplace=True)"
      ],
      "execution_count": null,
      "outputs": []
    },
    {
      "cell_type": "code",
      "metadata": {
        "id": "OzAuBC6q1Mmz"
      },
      "source": [
        "# Iterate through the distinct contexts\n",
        "for i in range(df4.shape[0]): \n",
        "  context = df4.iloc[i].context     # get unique context from df3\n",
        "  first   = get_hypothesis(context)  # use this context to extract all the records from original dataset\n",
        "  pred    = run_bert(first.h_no_sw)\n",
        "  maxx = calculate_similarity(pred)\n",
        "  \n",
        "  first['max_sim_factor'] = np.max(maxx, axis=1)\n",
        "  first['max_sim_index']  = np.argmax(maxx, axis=1)\n",
        "  \n",
        "  valdt = remove_duplicate(first)\n",
        "  valdt = valdt[~valdt.remove2]\n",
        "\n",
        "  df6 = df6.append(df[df.uid.isin(valdt.uid.values)], ignore_index = True)\n",
        "  print(\"The iteration no:\", i, context[0:10])\n"
      ],
      "execution_count": null,
      "outputs": []
    },
    {
      "cell_type": "markdown",
      "metadata": {
        "id": "9WSFlrB578w6"
      },
      "source": [
        "**An example of duplicate record found by solution**"
      ]
    },
    {
      "cell_type": "code",
      "metadata": {
        "colab": {
          "base_uri": "https://localhost:8080/"
        },
        "id": "5LGb2I5JZyNH",
        "outputId": "212c611c-f624-48dd-bb33-642527b4369d"
      },
      "source": [
        "#dff = df6.groupby(['context']).size().reset_index(name='counts')\n",
        "df6.shape"
      ],
      "execution_count": null,
      "outputs": [
        {
          "output_type": "execute_result",
          "data": {
            "text/plain": [
              "(16180, 9)"
            ]
          },
          "metadata": {
            "tags": []
          },
          "execution_count": 28
        }
      ]
    },
    {
      "cell_type": "code",
      "metadata": {
        "id": "Eh9hkaYTDHgp"
      },
      "source": [
        "pd.set_option('display.max_colwidth', 50) #100\n",
        "#df[df.uid.isin(['cb08b5ff-df27-4261-9ef2-d88190f086e5', '889eb855-645d-4156-840e-d5d89a8f02d2'])].hypothesis\n",
        "#849          Diamond Cay National Park is located on Little Jost Van Dyke.\n",
        "#1754    Little Jost Van Dyke is the location of Diamond Cay National Park."
      ],
      "execution_count": null,
      "outputs": []
    },
    {
      "cell_type": "code",
      "metadata": {
        "colab": {
          "base_uri": "https://localhost:8080/"
        },
        "id": "_hOoz9-RNj9k",
        "outputId": "aafb76f6-3b8b-4b06-df54-de34462464fe"
      },
      "source": [
        "print(\"original dataset:\", df.shape) # (16946, 9) # (45460, 9)\n",
        "print(\"dataset after deduping:\", df6.shape) # (16311, 9) # # (42832, 9)"
      ],
      "execution_count": null,
      "outputs": [
        {
          "output_type": "stream",
          "text": [
            "original dataset: (45460, 9)\n",
            "dataset after deduping: (42832, 9)\n"
          ],
          "name": "stdout"
        }
      ]
    },
    {
      "cell_type": "markdown",
      "metadata": {
        "id": "roZUf2Efacu8"
      },
      "source": [
        "**Write to file**"
      ]
    },
    {
      "cell_type": "code",
      "metadata": {
        "id": "5V0Dh8JUL1Nj"
      },
      "source": [
        "# or\n",
        "with open('train_dedup_R1_iter3.jsonl', 'w') as f:\n",
        "    f.write(df6.to_json(orient='records', lines=True))"
      ],
      "execution_count": null,
      "outputs": []
    },
    {
      "cell_type": "code",
      "metadata": {
        "id": "L_dCjqlEKQlc"
      },
      "source": [
        ""
      ],
      "execution_count": null,
      "outputs": []
    },
    {
      "cell_type": "code",
      "metadata": {
        "id": "3VR28wZTKQQ2"
      },
      "source": [
        ""
      ],
      "execution_count": null,
      "outputs": []
    },
    {
      "cell_type": "markdown",
      "metadata": {
        "id": "fRKchf9EKJ9O"
      },
      "source": [
        "**Additional Validations**"
      ]
    },
    {
      "cell_type": "code",
      "metadata": {
        "id": "5sBDGhKiKRei"
      },
      "source": [
        "df_0 = pd.read_json('/content/train.jsonl', lines=True) \n",
        "df_1 = pd.read_json('/content/train_dedup_01.jsonl', lines=True) \n",
        "df_2 = pd.read_json('/content/train_dedup_02.jsonl', lines=True) \n",
        "df_3 = pd.read_json('/content/train_dedup_03.jsonl', lines=True) \n",
        "df_4 = pd.read_json('/content/train_dedup_04.jsonl', lines=True)"
      ],
      "execution_count": null,
      "outputs": []
    },
    {
      "cell_type": "code",
      "metadata": {
        "colab": {
          "base_uri": "https://localhost:8080/"
        },
        "id": "3Kmv3N1tVla0",
        "outputId": "3afd1e5a-2574-4c92-bacf-8190af0e2a49"
      },
      "source": [
        "df_0.shape # 100459"
      ],
      "execution_count": null,
      "outputs": [
        {
          "output_type": "execute_result",
          "data": {
            "text/plain": [
              "(100459, 9)"
            ]
          },
          "metadata": {
            "tags": []
          },
          "execution_count": 47
        }
      ]
    },
    {
      "cell_type": "code",
      "metadata": {
        "id": "p7klk9iYKRb3"
      },
      "source": [
        "df_a0 = df_0.groupby(['context']).size().reset_index(name='counts')\n",
        "df_a0 = df_a0.sort_values(by='counts', ascending=False)\n",
        "\n",
        "df_a1 = df_1.groupby(['context']).size().reset_index(name='counts')\n",
        "df_a1 = df_a1.sort_values(by='counts', ascending=False)\n",
        "\n",
        "df_a2 = df_2.groupby(['context']).size().reset_index(name='counts')\n",
        "df_a2 = df_a2.sort_values(by='counts', ascending=False)\n",
        "\n",
        "df_a3 = df_3.groupby(['context']).size().reset_index(name='counts')\n",
        "df_a3 = df_a3.sort_values(by='counts', ascending=False)\n",
        "\n",
        "df_a4 = df_4.groupby(['context']).size().reset_index(name='counts')\n",
        "df_a4 = df_a4.sort_values(by='counts', ascending=False)\n"
      ],
      "execution_count": null,
      "outputs": []
    },
    {
      "cell_type": "code",
      "metadata": {
        "colab": {
          "base_uri": "https://localhost:8080/",
          "height": 202
        },
        "id": "q63S3-PgKz9k",
        "outputId": "09af0053-b8fa-4e53-a85e-d888a2178fef"
      },
      "source": [
        "df_a2.head()"
      ],
      "execution_count": null,
      "outputs": [
        {
          "output_type": "execute_result",
          "data": {
            "text/html": [
              "<div>\n",
              "<style scoped>\n",
              "    .dataframe tbody tr th:only-of-type {\n",
              "        vertical-align: middle;\n",
              "    }\n",
              "\n",
              "    .dataframe tbody tr th {\n",
              "        vertical-align: top;\n",
              "    }\n",
              "\n",
              "    .dataframe thead th {\n",
              "        text-align: right;\n",
              "    }\n",
              "</style>\n",
              "<table border=\"1\" class=\"dataframe\">\n",
              "  <thead>\n",
              "    <tr style=\"text-align: right;\">\n",
              "      <th></th>\n",
              "      <th>context</th>\n",
              "      <th>counts</th>\n",
              "    </tr>\n",
              "  </thead>\n",
              "  <tbody>\n",
              "    <tr>\n",
              "      <th>920</th>\n",
              "      <td>Little Jost Van Dyke (colloquially, \"Little Jo...</td>\n",
              "      <td>39</td>\n",
              "    </tr>\n",
              "    <tr>\n",
              "      <th>413</th>\n",
              "      <td>Cowie Castle is a ruined fortress in Aberdeens...</td>\n",
              "      <td>38</td>\n",
              "    </tr>\n",
              "    <tr>\n",
              "      <th>1105</th>\n",
              "      <td>North East Lincolnshire is a unitary authority...</td>\n",
              "      <td>36</td>\n",
              "    </tr>\n",
              "    <tr>\n",
              "      <th>1175</th>\n",
              "      <td>Peter Franklin Paul (born September 2, 1948) i...</td>\n",
              "      <td>35</td>\n",
              "    </tr>\n",
              "    <tr>\n",
              "      <th>1999</th>\n",
              "      <td>Westminster, Ellesmere Port is a suburb of the...</td>\n",
              "      <td>32</td>\n",
              "    </tr>\n",
              "  </tbody>\n",
              "</table>\n",
              "</div>"
            ],
            "text/plain": [
              "                                                context  counts\n",
              "920   Little Jost Van Dyke (colloquially, \"Little Jo...      39\n",
              "413   Cowie Castle is a ruined fortress in Aberdeens...      38\n",
              "1105  North East Lincolnshire is a unitary authority...      36\n",
              "1175  Peter Franklin Paul (born September 2, 1948) i...      35\n",
              "1999  Westminster, Ellesmere Port is a suburb of the...      32"
            ]
          },
          "metadata": {
            "tags": []
          },
          "execution_count": 16
        }
      ]
    },
    {
      "cell_type": "code",
      "metadata": {
        "colab": {
          "base_uri": "https://localhost:8080/",
          "height": 202
        },
        "id": "0cpNk2mUK3hG",
        "outputId": "50b748b6-b5fb-40e1-fa67-882dff51a10d"
      },
      "source": [
        "df_d2.head()"
      ],
      "execution_count": null,
      "outputs": [
        {
          "output_type": "execute_result",
          "data": {
            "text/html": [
              "<div>\n",
              "<style scoped>\n",
              "    .dataframe tbody tr th:only-of-type {\n",
              "        vertical-align: middle;\n",
              "    }\n",
              "\n",
              "    .dataframe tbody tr th {\n",
              "        vertical-align: top;\n",
              "    }\n",
              "\n",
              "    .dataframe thead th {\n",
              "        text-align: right;\n",
              "    }\n",
              "</style>\n",
              "<table border=\"1\" class=\"dataframe\">\n",
              "  <thead>\n",
              "    <tr style=\"text-align: right;\">\n",
              "      <th></th>\n",
              "      <th>context</th>\n",
              "      <th>counts</th>\n",
              "    </tr>\n",
              "  </thead>\n",
              "  <tbody>\n",
              "    <tr>\n",
              "      <th>413</th>\n",
              "      <td>Cowie Castle is a ruined fortress in Aberdeens...</td>\n",
              "      <td>36</td>\n",
              "    </tr>\n",
              "    <tr>\n",
              "      <th>920</th>\n",
              "      <td>Little Jost Van Dyke (colloquially, \"Little Jo...</td>\n",
              "      <td>35</td>\n",
              "    </tr>\n",
              "    <tr>\n",
              "      <th>1105</th>\n",
              "      <td>North East Lincolnshire is a unitary authority...</td>\n",
              "      <td>34</td>\n",
              "    </tr>\n",
              "    <tr>\n",
              "      <th>1175</th>\n",
              "      <td>Peter Franklin Paul (born September 2, 1948) i...</td>\n",
              "      <td>34</td>\n",
              "    </tr>\n",
              "    <tr>\n",
              "      <th>1999</th>\n",
              "      <td>Westminster, Ellesmere Port is a suburb of the...</td>\n",
              "      <td>32</td>\n",
              "    </tr>\n",
              "  </tbody>\n",
              "</table>\n",
              "</div>"
            ],
            "text/plain": [
              "                                                context  counts\n",
              "413   Cowie Castle is a ruined fortress in Aberdeens...      36\n",
              "920   Little Jost Van Dyke (colloquially, \"Little Jo...      35\n",
              "1105  North East Lincolnshire is a unitary authority...      34\n",
              "1175  Peter Franklin Paul (born September 2, 1948) i...      34\n",
              "1999  Westminster, Ellesmere Port is a suburb of the...      32"
            ]
          },
          "metadata": {
            "tags": []
          },
          "execution_count": 17
        }
      ]
    },
    {
      "cell_type": "code",
      "metadata": {
        "id": "zhML-wkdLZbP"
      },
      "source": [
        "df_merge = pd.merge(\n",
        "    df_a2,\n",
        "    df_d2,\n",
        "    how=\"inner\",\n",
        "    on='context'\n",
        ")"
      ],
      "execution_count": null,
      "outputs": []
    },
    {
      "cell_type": "code",
      "metadata": {
        "id": "nh4FtfXtMmgp"
      },
      "source": [
        "df_merge[\"is_dedup\"] = df_merge.counts_x != df_merge.counts_y"
      ],
      "execution_count": null,
      "outputs": []
    },
    {
      "cell_type": "code",
      "metadata": {
        "id": "wupN1mZyNosc"
      },
      "source": [
        "#df_merge[(df_merge.is_dedup == True) & (df_merge.counts_x == 10)] # 431 contexts from R1/train are affected by dedup\n",
        "\n",
        "#df_merge.loc[589].context\n",
        "thefunt = df_merge.loc[589].context\n",
        "\n",
        "#df_merge.loc[619].context\n",
        "theroad = df_merge.loc[619].context\n",
        "\n",
        "#df_merge.loc[641].context\n",
        "evothel = df_merge.loc[641].context"
      ],
      "execution_count": null,
      "outputs": []
    },
    {
      "cell_type": "code",
      "metadata": {
        "id": "FNsLkIEtRPDJ"
      },
      "source": [
        "pd.set_option('display.max_colwidth', 200) #50 #100 # 150"
      ],
      "execution_count": null,
      "outputs": []
    },
    {
      "cell_type": "code",
      "metadata": {
        "id": "n3Dtf_etR9RE"
      },
      "source": [
        "#dff = df_a1[df_a1.counts == 1]\n",
        "dff"
      ],
      "execution_count": null,
      "outputs": []
    },
    {
      "cell_type": "code",
      "metadata": {
        "id": "9QCKUFXbQtEy"
      },
      "source": [
        "dfin2 = df_2[~df_2.context.isin(dff.context)]\n",
        "dfin3 = df_3[~df_3.context.isin(dff.context)]\n",
        "dfin4 = df_4[~df_4.context.isin(dff.context)]\n",
        "\n",
        "\n",
        "df_final = pd.concat([df_1, dfin2, dfin3, dfin4])\n"
      ],
      "execution_count": null,
      "outputs": []
    },
    {
      "cell_type": "code",
      "metadata": {
        "id": "hmWc4D1lRckD"
      },
      "source": [
        "df_final.head()"
      ],
      "execution_count": null,
      "outputs": []
    },
    {
      "cell_type": "code",
      "metadata": {
        "id": "UGewXXxoYiCY"
      },
      "source": [
        "df_fin = df_final.groupby(['context']).size().reset_index(name='counts')\n",
        "df_fin = df_fin.sort_values(by='counts', ascending=False)\n"
      ],
      "execution_count": null,
      "outputs": []
    },
    {
      "cell_type": "code",
      "metadata": {
        "colab": {
          "base_uri": "https://localhost:8080/"
        },
        "id": "OE_c3Mx9h4T-",
        "outputId": "ac91b9a0-b6c0-4ef2-a615-1321fa1cd30e"
      },
      "source": [
        "df_fin.shape"
      ],
      "execution_count": null,
      "outputs": [
        {
          "output_type": "execute_result",
          "data": {
            "text/plain": [
              "(5996, 2)"
            ]
          },
          "metadata": {
            "tags": []
          },
          "execution_count": 67
        }
      ]
    },
    {
      "cell_type": "code",
      "metadata": {
        "colab": {
          "base_uri": "https://localhost:8080/"
        },
        "id": "n25kW3vYiJcD",
        "outputId": "199eab55-3ff0-4784-fd38-135ededb8cdf"
      },
      "source": [
        "df_a0.shape"
      ],
      "execution_count": null,
      "outputs": [
        {
          "output_type": "execute_result",
          "data": {
            "text/plain": [
              "(5996, 2)"
            ]
          },
          "metadata": {
            "tags": []
          },
          "execution_count": 68
        }
      ]
    },
    {
      "cell_type": "code",
      "metadata": {
        "colab": {
          "base_uri": "https://localhost:8080/"
        },
        "id": "l9vP-qm4iVX0",
        "outputId": "786a7244-6668-493e-e392-2d8d24be593c"
      },
      "source": [
        "pd.merge(\n",
        "    df_a0,\n",
        "    df_fin,\n",
        "    how=\"inner\",\n",
        "    on='context'\n",
        ").shape"
      ],
      "execution_count": null,
      "outputs": [
        {
          "output_type": "execute_result",
          "data": {
            "text/plain": [
              "(5996, 3)"
            ]
          },
          "metadata": {
            "tags": []
          },
          "execution_count": 69
        }
      ]
    },
    {
      "cell_type": "code",
      "metadata": {
        "id": "dciwvyyeic-C"
      },
      "source": [
        "df_a0"
      ],
      "execution_count": null,
      "outputs": []
    },
    {
      "cell_type": "markdown",
      "metadata": {
        "id": "g_H5t_6tLE94"
      },
      "source": [
        "**This is the end**"
      ]
    }
  ]
}