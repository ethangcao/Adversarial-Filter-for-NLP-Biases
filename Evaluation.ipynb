{
  "nbformat": 4,
  "nbformat_minor": 0,
  "metadata": {
    "colab": {
      "name": "Evaluation.ipynb",
      "provenance": [],
      "collapsed_sections": [],
      "mount_file_id": "1qRXrkAIXvLgFFvnVSk2axMJ001j4s8Dq",
      "authorship_tag": "ABX9TyMyTw05rPoZpV878uGEqgpP"
    },
    "kernelspec": {
      "name": "python3",
      "display_name": "Python 3"
    },
    "language_info": {
      "name": "python"
    }
  },
  "cells": [
    {
      "cell_type": "code",
      "metadata": {
        "colab": {
          "base_uri": "https://localhost:8080/"
        },
        "id": "AVMjOc3RLXFu",
        "outputId": "a6b4654a-8104-458e-9549-ab41009e9b06"
      },
      "source": [
        "# Mount into d\\rive\n",
        "from google.colab import drive\n",
        "drive.mount(\"/content/drive\", force_remount=True)"
      ],
      "execution_count": 1,
      "outputs": [
        {
          "output_type": "stream",
          "text": [
            "Mounted at /content/drive\n"
          ],
          "name": "stdout"
        }
      ]
    },
    {
      "cell_type": "code",
      "metadata": {
        "colab": {
          "base_uri": "https://localhost:8080/"
        },
        "id": "ZBiBxYlPQL1g",
        "outputId": "2f03d99d-9b63-4ddf-9c01-d634747c5d60"
      },
      "source": [
        "%%bash\n",
        "cd drive/MyDrive/ColabNotebooks/anli\n",
        "source setup.sh\n",
        "# bash script/download_data.sh\n",
        "# python src/dataset_tools/build_data.py"
      ],
      "execution_count": 4,
      "outputs": [
        {
          "output_type": "stream",
          "text": [
            "PYTHONPATH=/env/python:/content/drive/MyDrive/ColabNotebooks/anli/src:/content/drive/MyDrive/ColabNotebooks/anli/utest\n"
          ],
          "name": "stdout"
        }
      ]
    },
    {
      "cell_type": "markdown",
      "metadata": {
        "id": "C81MQlgYanom"
      },
      "source": [
        "to use CPU for prediction, go to ```/content/drive/MyDrive/ColabNotebooks/anli/src/nli``` in your drive and replace `evaluation.py` with [this](https://github.com/koi-ibear/anli/blob/cpu_prediction/src/nli/evaluation.py)"
      ]
    },
    {
      "cell_type": "code",
      "metadata": {
        "id": "FUBMXDT-Q1tE"
      },
      "source": [
        "%%bash\n",
        "cd drive/MyDrive/ColabNotebooks/anli/src/\n",
        "python nli/evaluation.py \\\n",
        "  --cpu \\\n",
        "  --model_class_name 'bert-base' \\\n",
        "  --model_checkpoint_path '/content/drive/MyDrive/ColabNotebooks/anli/saved_models/07-28-13:44:50_filtered_half|roberta-base|snli+mnli+fnli+r1*5+r2*10+r3*5|nli/checkpoints/e(0)|i(12000)|anli_r1_dev#(0.583)|anli_r2_dev#(0.504)|anli_r3_dev#(0.455)/model.pt'\\\n",
        "  --output_prediction_path '/content/drive/MyDrive/ColabNotebooks/anli/predictions/filtered_half_perdiction/'\\\n",
        "  --per_gpu_eval_batch_size 16 \\\n",
        "  --max_length 156\\\n",
        "  --eval_data 'anli_r1_test:none,anli_r2_test:none,anli_r3_test:none'"
      ],
      "execution_count": null,
      "outputs": []
    },
    {
      "cell_type": "code",
      "metadata": {
        "id": "bfPAwfxZRzUV"
      },
      "source": [
        ""
      ],
      "execution_count": null,
      "outputs": []
    }
  ]
}